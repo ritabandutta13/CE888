{
 "cells": [
  {
   "cell_type": "code",
   "execution_count": 88,
   "metadata": {},
   "outputs": [],
   "source": [
    "import pandas as pd\n",
    "import numpy as np\n",
    "import glob as glb\n",
    "from datetime import date, timedelta"
   ]
  },
  {
   "cell_type": "markdown",
   "metadata": {},
   "source": [
    "- Collated n number of monthly stop and search data for all the constabularies which was available for on https://data.police.uk through a loop\n",
    "- Mapped constabularies from file names\n",
    "- Converted string date to month format\n",
    "- Imputed NaNs with 'Not Known' flag\n",
    "- Mapped self defined ethnicity to BAME, White & Not Known Buckets"
   ]
  },
  {
   "cell_type": "code",
   "execution_count": 89,
   "metadata": {
    "scrolled": true
   },
   "outputs": [
    {
     "data": {
      "text/html": [
       "<div>\n",
       "<style scoped>\n",
       "    .dataframe tbody tr th:only-of-type {\n",
       "        vertical-align: middle;\n",
       "    }\n",
       "\n",
       "    .dataframe tbody tr th {\n",
       "        vertical-align: top;\n",
       "    }\n",
       "\n",
       "    .dataframe thead th {\n",
       "        text-align: right;\n",
       "    }\n",
       "</style>\n",
       "<table border=\"1\" class=\"dataframe\">\n",
       "  <thead>\n",
       "    <tr style=\"text-align: right;\">\n",
       "      <th></th>\n",
       "      <th>Type</th>\n",
       "      <th>Date</th>\n",
       "      <th>Part of a policing operation</th>\n",
       "      <th>Policing operation</th>\n",
       "      <th>Latitude</th>\n",
       "      <th>Longitude</th>\n",
       "      <th>Gender</th>\n",
       "      <th>Age range</th>\n",
       "      <th>Self-defined ethnicity</th>\n",
       "      <th>Officer-defined ethnicity</th>\n",
       "      <th>Legislation</th>\n",
       "      <th>Object of search</th>\n",
       "      <th>Outcome</th>\n",
       "      <th>Outcome linked to object of search</th>\n",
       "      <th>Removal of more than just outer clothing</th>\n",
       "      <th>Place</th>\n",
       "    </tr>\n",
       "  </thead>\n",
       "  <tbody>\n",
       "    <tr>\n",
       "      <th>0</th>\n",
       "      <td>Person search</td>\n",
       "      <td>2019-01-01T00:00:00+00:00</td>\n",
       "      <td>NaN</td>\n",
       "      <td>NaN</td>\n",
       "      <td>NaN</td>\n",
       "      <td>NaN</td>\n",
       "      <td>Male</td>\n",
       "      <td>18-24</td>\n",
       "      <td>NaN</td>\n",
       "      <td>NaN</td>\n",
       "      <td>NaN</td>\n",
       "      <td>NaN</td>\n",
       "      <td>NaN</td>\n",
       "      <td>NaN</td>\n",
       "      <td>NaN</td>\n",
       "      <td>C:/Users/Ritaban Dutta/Downloads/Stop and Sear...</td>\n",
       "    </tr>\n",
       "    <tr>\n",
       "      <th>1</th>\n",
       "      <td>Person search</td>\n",
       "      <td>2019-01-01T00:00:00+00:00</td>\n",
       "      <td>NaN</td>\n",
       "      <td>NaN</td>\n",
       "      <td>NaN</td>\n",
       "      <td>NaN</td>\n",
       "      <td>Male</td>\n",
       "      <td>10-17</td>\n",
       "      <td>NaN</td>\n",
       "      <td>NaN</td>\n",
       "      <td>NaN</td>\n",
       "      <td>NaN</td>\n",
       "      <td>NaN</td>\n",
       "      <td>NaN</td>\n",
       "      <td>NaN</td>\n",
       "      <td>C:/Users/Ritaban Dutta/Downloads/Stop and Sear...</td>\n",
       "    </tr>\n",
       "    <tr>\n",
       "      <th>2</th>\n",
       "      <td>Person search</td>\n",
       "      <td>2019-01-01T00:30:00+00:00</td>\n",
       "      <td>NaN</td>\n",
       "      <td>NaN</td>\n",
       "      <td>51.350977</td>\n",
       "      <td>-2.979701</td>\n",
       "      <td>Male</td>\n",
       "      <td>over 34</td>\n",
       "      <td>White - English/Welsh/Scottish/Northern Irish/...</td>\n",
       "      <td>White</td>\n",
       "      <td>Misuse of Drugs Act 1971 (section 23)</td>\n",
       "      <td>Controlled drugs</td>\n",
       "      <td>Arrest</td>\n",
       "      <td>True</td>\n",
       "      <td>False</td>\n",
       "      <td>C:/Users/Ritaban Dutta/Downloads/Stop and Sear...</td>\n",
       "    </tr>\n",
       "    <tr>\n",
       "      <th>3</th>\n",
       "      <td>Person search</td>\n",
       "      <td>2019-01-01T01:35:00+00:00</td>\n",
       "      <td>NaN</td>\n",
       "      <td>NaN</td>\n",
       "      <td>51.471129</td>\n",
       "      <td>-2.589816</td>\n",
       "      <td>Male</td>\n",
       "      <td>over 34</td>\n",
       "      <td>White - English/Welsh/Scottish/Northern Irish/...</td>\n",
       "      <td>White</td>\n",
       "      <td>Police and Criminal Evidence Act 1984 (section 1)</td>\n",
       "      <td>Article for use in theft</td>\n",
       "      <td>NaN</td>\n",
       "      <td>NaN</td>\n",
       "      <td>False</td>\n",
       "      <td>C:/Users/Ritaban Dutta/Downloads/Stop and Sear...</td>\n",
       "    </tr>\n",
       "    <tr>\n",
       "      <th>4</th>\n",
       "      <td>Person search</td>\n",
       "      <td>2019-01-01T01:35:00+00:00</td>\n",
       "      <td>NaN</td>\n",
       "      <td>NaN</td>\n",
       "      <td>51.471129</td>\n",
       "      <td>-2.589816</td>\n",
       "      <td>Male</td>\n",
       "      <td>over 34</td>\n",
       "      <td>White - English/Welsh/Scottish/Northern Irish/...</td>\n",
       "      <td>White</td>\n",
       "      <td>Police and Criminal Evidence Act 1984 (section 1)</td>\n",
       "      <td>Article for use in theft</td>\n",
       "      <td>NaN</td>\n",
       "      <td>NaN</td>\n",
       "      <td>False</td>\n",
       "      <td>C:/Users/Ritaban Dutta/Downloads/Stop and Sear...</td>\n",
       "    </tr>\n",
       "  </tbody>\n",
       "</table>\n",
       "</div>"
      ],
      "text/plain": [
       "            Type                       Date Part of a policing operation  \\\n",
       "0  Person search  2019-01-01T00:00:00+00:00                          NaN   \n",
       "1  Person search  2019-01-01T00:00:00+00:00                          NaN   \n",
       "2  Person search  2019-01-01T00:30:00+00:00                          NaN   \n",
       "3  Person search  2019-01-01T01:35:00+00:00                          NaN   \n",
       "4  Person search  2019-01-01T01:35:00+00:00                          NaN   \n",
       "\n",
       "   Policing operation   Latitude  Longitude Gender Age range  \\\n",
       "0                 NaN        NaN        NaN   Male     18-24   \n",
       "1                 NaN        NaN        NaN   Male     10-17   \n",
       "2                 NaN  51.350977  -2.979701   Male   over 34   \n",
       "3                 NaN  51.471129  -2.589816   Male   over 34   \n",
       "4                 NaN  51.471129  -2.589816   Male   over 34   \n",
       "\n",
       "                              Self-defined ethnicity  \\\n",
       "0                                                NaN   \n",
       "1                                                NaN   \n",
       "2  White - English/Welsh/Scottish/Northern Irish/...   \n",
       "3  White - English/Welsh/Scottish/Northern Irish/...   \n",
       "4  White - English/Welsh/Scottish/Northern Irish/...   \n",
       "\n",
       "  Officer-defined ethnicity  \\\n",
       "0                       NaN   \n",
       "1                       NaN   \n",
       "2                     White   \n",
       "3                     White   \n",
       "4                     White   \n",
       "\n",
       "                                         Legislation  \\\n",
       "0                                                NaN   \n",
       "1                                                NaN   \n",
       "2              Misuse of Drugs Act 1971 (section 23)   \n",
       "3  Police and Criminal Evidence Act 1984 (section 1)   \n",
       "4  Police and Criminal Evidence Act 1984 (section 1)   \n",
       "\n",
       "           Object of search Outcome Outcome linked to object of search  \\\n",
       "0                       NaN     NaN                                NaN   \n",
       "1                       NaN     NaN                                NaN   \n",
       "2          Controlled drugs  Arrest                               True   \n",
       "3  Article for use in theft     NaN                                NaN   \n",
       "4  Article for use in theft     NaN                                NaN   \n",
       "\n",
       "  Removal of more than just outer clothing  \\\n",
       "0                                      NaN   \n",
       "1                                      NaN   \n",
       "2                                    False   \n",
       "3                                    False   \n",
       "4                                    False   \n",
       "\n",
       "                                               Place  \n",
       "0  C:/Users/Ritaban Dutta/Downloads/Stop and Sear...  \n",
       "1  C:/Users/Ritaban Dutta/Downloads/Stop and Sear...  \n",
       "2  C:/Users/Ritaban Dutta/Downloads/Stop and Sear...  \n",
       "3  C:/Users/Ritaban Dutta/Downloads/Stop and Sear...  \n",
       "4  C:/Users/Ritaban Dutta/Downloads/Stop and Sear...  "
      ]
     },
     "execution_count": 89,
     "metadata": {},
     "output_type": "execute_result"
    }
   ],
   "source": [
    "path = r'C:/Users/Ritaban Dutta/Downloads/Stop and Search'\n",
    "all_files = glb.glob(path + \"\\*-stop-and-search.csv\")\n",
    "\n",
    "li = []\n",
    "\n",
    "for filename in all_files:\n",
    "\n",
    "    df = pd.read_csv(filename, index_col=None, header=0,encoding='latin1')\n",
    "    df['Place']=filename\n",
    "    li.append(df)\n",
    "\n",
    "frame = pd.concat(li, axis=0, ignore_index=True)\n",
    "data=frame.copy(deep=True)\n",
    "data.head()"
   ]
  },
  {
   "cell_type": "code",
   "execution_count": 90,
   "metadata": {},
   "outputs": [],
   "source": [
    "data=data.rename(columns={'Type':'n_type'})"
   ]
  },
  {
   "cell_type": "code",
   "execution_count": 91,
   "metadata": {},
   "outputs": [],
   "source": [
    "data['n_place'] = data['Place'].str.split('\\\\').str[6]\n"
   ]
  },
  {
   "cell_type": "code",
   "execution_count": 92,
   "metadata": {},
   "outputs": [],
   "source": [
    "data['n_month']=data['Date'].str[0:7]"
   ]
  },
  {
   "cell_type": "code",
   "execution_count": null,
   "metadata": {},
   "outputs": [],
   "source": []
  },
  {
   "cell_type": "code",
   "execution_count": 93,
   "metadata": {},
   "outputs": [
    {
     "data": {
      "text/plain": [
       "Not Part Of Policing Op    839672\n",
       "Not Known                  357136\n",
       "Part Of Policing Op         30044\n",
       "Name: n_part_of_policing_operation, dtype: int64"
      ]
     },
     "execution_count": 93,
     "metadata": {},
     "output_type": "execute_result"
    }
   ],
   "source": [
    "data['Part of a policing operation'].value_counts(dropna=False)\n",
    "data['n_part_of_policing_operation']=np.where(data['Part of a policing operation']==True,'Part Of Policing Op','Not Known')\n",
    "data['n_part_of_policing_operation']=np.where(data['Part of a policing operation']==False,'Not Part Of Policing Op',data['n_part_of_policing_operation'])\n",
    "data['n_part_of_policing_operation'].value_counts(dropna=False)"
   ]
  },
  {
   "cell_type": "code",
   "execution_count": 94,
   "metadata": {},
   "outputs": [
    {
     "data": {
      "text/plain": [
       "Not Known                      872650\n",
       "Obj Of Search Was Not Found    203027\n",
       "Obj Of Search Was Found        151175\n",
       "Name: n_outcome_lnkd_to_obj_of_search, dtype: int64"
      ]
     },
     "execution_count": 94,
     "metadata": {},
     "output_type": "execute_result"
    }
   ],
   "source": [
    "data['Outcome linked to object of search'].value_counts(dropna=False)\n",
    "data['n_outcome_lnkd_to_obj_of_search']=np.where(data['Outcome linked to object of search']==True,'Obj Of Search Was Found','Not Known')\n",
    "data['n_outcome_lnkd_to_obj_of_search']=np.where(data['Outcome linked to object of search']==False,'Obj Of Search Was Not Found',data['n_outcome_lnkd_to_obj_of_search'])\n",
    "data['n_outcome_lnkd_to_obj_of_search'].value_counts(dropna=False)"
   ]
  },
  {
   "cell_type": "code",
   "execution_count": 95,
   "metadata": {},
   "outputs": [
    {
     "data": {
      "text/plain": [
       "Male         1037374\n",
       "Female        101111\n",
       "Not Known      86247\n",
       "Other           2120\n",
       "Name: n_gender, dtype: int64"
      ]
     },
     "execution_count": 95,
     "metadata": {},
     "output_type": "execute_result"
    }
   ],
   "source": [
    "data['Gender'].value_counts(dropna=False)\n",
    "data['n_gender']=np.where(data['Gender'].isna(),'Not Known',data['Gender'])\n",
    "data['n_gender'].value_counts(dropna=False)"
   ]
  },
  {
   "cell_type": "code",
   "execution_count": 96,
   "metadata": {},
   "outputs": [
    {
     "data": {
      "text/plain": [
       "18-24        396074\n",
       "25-34        260308\n",
       "Over 34      214879\n",
       "10-17        212153\n",
       "Not Known    142849\n",
       "Under 10        589\n",
       "Name: n_age, dtype: int64"
      ]
     },
     "execution_count": 96,
     "metadata": {},
     "output_type": "execute_result"
    }
   ],
   "source": [
    "data['Age range'].value_counts(dropna=False)\n",
    "data['n_age']=np.where(data['Age range'].isna(),'Not Known',data['Age range'])\n",
    "data['n_age']=np.where(data['Age range']=='over 34','Over 34',data['n_age'])\n",
    "data['n_age']=np.where(data['Age range']=='under 10','Under 10',data['n_age'])\n",
    "data['n_age'].value_counts(dropna=False)"
   ]
  },
  {
   "cell_type": "code",
   "execution_count": 97,
   "metadata": {},
   "outputs": [
    {
     "data": {
      "text/plain": [
       "White - English/Welsh/Scottish/Northern Irish/British                                   490970\n",
       "Other ethnic group - Not stated                                                         197813\n",
       "White - Any other White background                                                       96206\n",
       "Black/African/Caribbean/Black British - Any other Black/African/Caribbean background     85529\n",
       "Black/African/Caribbean/Black British - African                                          65058\n",
       "Asian/Asian British - Any other Asian background                                         53494\n",
       "NaN                                                                                      49340\n",
       "Black/African/Caribbean/Black British - Caribbean                                        43885\n",
       "Asian/Asian British - Pakistani                                                          36042\n",
       "Asian/Asian British - Bangladeshi                                                        24544\n",
       "Other ethnic group - Any other ethnic group                                              19239\n",
       "Mixed/Multiple ethnic groups - Any other Mixed/Multiple ethnic background                17231\n",
       "Asian/Asian British - Indian                                                             15117\n",
       "Mixed/Multiple ethnic groups - White and Black Caribbean                                 12883\n",
       "White - Irish                                                                             7870\n",
       "Mixed/Multiple ethnic groups - White and Black African                                    4203\n",
       "Mixed/Multiple ethnic groups - White and Asian                                            3765\n",
       "White - Gypsy or Irish Traveller                                                          2233\n",
       "Asian/Asian British - Chinese                                                             1260\n",
       "Other ethnic group - Arab                                                                  170\n",
       "Name: Self-defined ethnicity, dtype: int64"
      ]
     },
     "execution_count": 97,
     "metadata": {},
     "output_type": "execute_result"
    }
   ],
   "source": [
    "data['Self-defined ethnicity'].value_counts(dropna=False)"
   ]
  },
  {
   "cell_type": "code",
   "execution_count": 98,
   "metadata": {},
   "outputs": [],
   "source": [
    "data['n_self_def_eth']=np.where(data['Self-defined ethnicity'].isin(['White - English/Welsh/Scottish/Northern Irish/British',\n",
    "                                                                     'White - Any other White background',\n",
    "                                                                     'White - Gypsy or Irish Traveller',\n",
    "                                                                     'White - Irish']),'White','Not Known')\n",
    "data['n_self_def_eth']=np.where(data['Self-defined ethnicity'].isin(['Black/African/Caribbean/Black British - Any other Black/African/Caribbean background',\n",
    "                                                                     'Black/African/Caribbean/Black British - African',\n",
    "                                                                     'Black/African/Caribbean/Black British - Caribbean'\n",
    "                                                                     ]),'BAME',data['n_self_def_eth'])\n",
    "data['n_self_def_eth']=np.where(data['Self-defined ethnicity'].isin(['Asian/Asian British - Any other Asian background',\n",
    "                                                                     'Asian/Asian British - Pakistani',\n",
    "                                                                     'Asian/Asian British - Bangladeshi',\n",
    "                                                                     'Asian/Asian British - Indian',\n",
    "                                                                     'Asian/Asian British - Chinese']),'BAME',data['n_self_def_eth'])\n",
    "data['n_self_def_eth']=np.where(data['Self-defined ethnicity'].isin(['Other ethnic group - Not stated',\n",
    "                                                                     'Other ethnic group - Any other ethnic group',\n",
    "                                                                     'Other ethnic group - Arab']),'BAME',data['n_self_def_eth'])\n",
    "data['n_self_def_eth']=np.where(data['Self-defined ethnicity'].isin(['Mixed/Multiple ethnic groups - Any other Mixed/Multiple ethnic background',\n",
    "                                                                     'Mixed/Multiple ethnic groups - White and Black Caribbean',\n",
    "                                                                     'Mixed/Multiple ethnic groups - White and Black African',\n",
    "                                                                     'Mixed/Multiple ethnic groups - White and Asian']),'BAME',data['n_self_def_eth'])"
   ]
  },
  {
   "cell_type": "code",
   "execution_count": 99,
   "metadata": {},
   "outputs": [
    {
     "data": {
      "text/plain": [
       "White        597279\n",
       "BAME         580233\n",
       "Not Known     49340\n",
       "Name: n_self_def_eth, dtype: int64"
      ]
     },
     "execution_count": 99,
     "metadata": {},
     "output_type": "execute_result"
    }
   ],
   "source": [
    "data['n_self_def_eth'].value_counts()"
   ]
  },
  {
   "cell_type": "code",
   "execution_count": 100,
   "metadata": {
    "scrolled": true
   },
   "outputs": [
    {
     "data": {
      "text/plain": [
       "White        655530\n",
       "Black        274222\n",
       "Asian        160226\n",
       "Not Known     95672\n",
       "Other         37605\n",
       "Mixed          3597\n",
       "Name: n_off_def_eth, dtype: int64"
      ]
     },
     "execution_count": 100,
     "metadata": {},
     "output_type": "execute_result"
    }
   ],
   "source": [
    "data['Officer-defined ethnicity'].value_counts(dropna=False)\n",
    "data['n_off_def_eth']=np.where(data['Officer-defined ethnicity'].isna(),'Not Known',data['Officer-defined ethnicity'])\n",
    "data['n_off_def_eth'].value_counts(dropna=False)"
   ]
  },
  {
   "cell_type": "code",
   "execution_count": 101,
   "metadata": {
    "scrolled": true
   },
   "outputs": [
    {
     "data": {
      "text/plain": [
       "Controlled drugs                              718991\n",
       "Offensive weapons                             169404\n",
       "Stolen goods                                  108294\n",
       "Not Known                                      70336\n",
       "Article for use in theft                       56760\n",
       "Evidence of offences under the Act             31491\n",
       "Anything to threaten or harm anyone            28711\n",
       "Articles for use in criminal damage            19408\n",
       "Firearms                                        9089\n",
       "Psychoactive substances                         7029\n",
       "Fireworks                                       6544\n",
       "Detailed object of search unavailable            300\n",
       "Game or poaching equipment                       295\n",
       "Goods on which duty has not been paid etc.        99\n",
       "Evidence of wildlife offences                     51\n",
       "Crossbows                                         46\n",
       "Seals or hunting equipment                         4\n",
       "Name: n_obj_of_search, dtype: int64"
      ]
     },
     "execution_count": 101,
     "metadata": {},
     "output_type": "execute_result"
    }
   ],
   "source": [
    "data['Object of search'].value_counts(dropna=False)\n",
    "data['n_obj_of_search']=np.where(data['Object of search'].isna(),'Not Known',data['Object of search'])\n",
    "data['n_obj_of_search'].value_counts(dropna=False)"
   ]
  },
  {
   "cell_type": "code",
   "execution_count": 102,
   "metadata": {},
   "outputs": [
    {
     "data": {
      "text/plain": [
       "A no further action disposal       909230\n",
       "Arrest                             147935\n",
       "Community resolution                74562\n",
       "Khat or Cannabis warning            23753\n",
       "Summons / charged by post           21415\n",
       "Penalty Notice for Disorder         18336\n",
       "Caution (simple or conditional)      4857\n",
       "Name: n_outcome, dtype: int64"
      ]
     },
     "execution_count": 102,
     "metadata": {},
     "output_type": "execute_result"
    }
   ],
   "source": [
    "data['Outcome'].value_counts()\n",
    "data=data.rename(columns={'Outcome':'n_outcome'})\n",
    "data['n_outcome'].value_counts()"
   ]
  },
  {
   "cell_type": "code",
   "execution_count": 103,
   "metadata": {},
   "outputs": [
    {
     "data": {
      "text/plain": [
       "Not Known                                  741315\n",
       "Not Removal Of More Than Outer Clothing    466689\n",
       "Removed More Than Outer Clothing            18848\n",
       "Name: n_rem_more_than_out_cloth, dtype: int64"
      ]
     },
     "execution_count": 103,
     "metadata": {},
     "output_type": "execute_result"
    }
   ],
   "source": [
    "data['Removal of more than just outer clothing'].value_counts(dropna=False)\n",
    "data['n_rem_more_than_out_cloth']=np.where(data['Removal of more than just outer clothing']==True,'Removed More Than Outer Clothing','Not Known')\n",
    "data['n_rem_more_than_out_cloth']=np.where(data['Removal of more than just outer clothing']==False,'Not Removal Of More Than Outer Clothing',data['n_rem_more_than_out_cloth'])\n",
    "data['n_rem_more_than_out_cloth'].value_counts(dropna=False)"
   ]
  },
  {
   "cell_type": "code",
   "execution_count": 104,
   "metadata": {},
   "outputs": [],
   "source": [
    "data=data.rename(columns={'Latitude':'n_latitude','Longitude':'n_longitude'})\n",
    "data['n_month']=pd.to_datetime(data['n_month'],format=\"%Y-%m\")\n",
    "data['n_month']=data['n_month'].dt.strftime(\"%Y-%m\")"
   ]
  },
  {
   "cell_type": "code",
   "execution_count": 105,
   "metadata": {
    "scrolled": false
   },
   "outputs": [
    {
     "data": {
      "text/html": [
       "<div>\n",
       "<style scoped>\n",
       "    .dataframe tbody tr th:only-of-type {\n",
       "        vertical-align: middle;\n",
       "    }\n",
       "\n",
       "    .dataframe tbody tr th {\n",
       "        vertical-align: top;\n",
       "    }\n",
       "\n",
       "    .dataframe thead th {\n",
       "        text-align: right;\n",
       "    }\n",
       "</style>\n",
       "<table border=\"1\" class=\"dataframe\">\n",
       "  <thead>\n",
       "    <tr style=\"text-align: right;\">\n",
       "      <th></th>\n",
       "      <th>n_type</th>\n",
       "      <th>n_latitude</th>\n",
       "      <th>n_longitude</th>\n",
       "      <th>n_outcome</th>\n",
       "      <th>n_place</th>\n",
       "      <th>n_month</th>\n",
       "      <th>n_part_of_policing_operation</th>\n",
       "      <th>n_outcome_lnkd_to_obj_of_search</th>\n",
       "      <th>n_gender</th>\n",
       "      <th>n_age</th>\n",
       "      <th>n_self_def_eth</th>\n",
       "      <th>n_off_def_eth</th>\n",
       "      <th>n_obj_of_search</th>\n",
       "      <th>n_rem_more_than_out_cloth</th>\n",
       "    </tr>\n",
       "  </thead>\n",
       "  <tbody>\n",
       "    <tr>\n",
       "      <th>0</th>\n",
       "      <td>Person search</td>\n",
       "      <td>NaN</td>\n",
       "      <td>NaN</td>\n",
       "      <td>NaN</td>\n",
       "      <td>NaN</td>\n",
       "      <td>2019-01</td>\n",
       "      <td>Not Known</td>\n",
       "      <td>Not Known</td>\n",
       "      <td>Male</td>\n",
       "      <td>18-24</td>\n",
       "      <td>Not Known</td>\n",
       "      <td>Not Known</td>\n",
       "      <td>Not Known</td>\n",
       "      <td>Not Known</td>\n",
       "    </tr>\n",
       "    <tr>\n",
       "      <th>1</th>\n",
       "      <td>Person search</td>\n",
       "      <td>NaN</td>\n",
       "      <td>NaN</td>\n",
       "      <td>NaN</td>\n",
       "      <td>NaN</td>\n",
       "      <td>2019-01</td>\n",
       "      <td>Not Known</td>\n",
       "      <td>Not Known</td>\n",
       "      <td>Male</td>\n",
       "      <td>10-17</td>\n",
       "      <td>Not Known</td>\n",
       "      <td>Not Known</td>\n",
       "      <td>Not Known</td>\n",
       "      <td>Not Known</td>\n",
       "    </tr>\n",
       "    <tr>\n",
       "      <th>2</th>\n",
       "      <td>Person search</td>\n",
       "      <td>51.350977</td>\n",
       "      <td>-2.979701</td>\n",
       "      <td>Arrest</td>\n",
       "      <td>NaN</td>\n",
       "      <td>2019-01</td>\n",
       "      <td>Not Known</td>\n",
       "      <td>Obj Of Search Was Found</td>\n",
       "      <td>Male</td>\n",
       "      <td>Over 34</td>\n",
       "      <td>White</td>\n",
       "      <td>White</td>\n",
       "      <td>Controlled drugs</td>\n",
       "      <td>Not Removal Of More Than Outer Clothing</td>\n",
       "    </tr>\n",
       "    <tr>\n",
       "      <th>3</th>\n",
       "      <td>Person search</td>\n",
       "      <td>51.471129</td>\n",
       "      <td>-2.589816</td>\n",
       "      <td>NaN</td>\n",
       "      <td>NaN</td>\n",
       "      <td>2019-01</td>\n",
       "      <td>Not Known</td>\n",
       "      <td>Not Known</td>\n",
       "      <td>Male</td>\n",
       "      <td>Over 34</td>\n",
       "      <td>White</td>\n",
       "      <td>White</td>\n",
       "      <td>Article for use in theft</td>\n",
       "      <td>Not Removal Of More Than Outer Clothing</td>\n",
       "    </tr>\n",
       "    <tr>\n",
       "      <th>4</th>\n",
       "      <td>Person search</td>\n",
       "      <td>51.471129</td>\n",
       "      <td>-2.589816</td>\n",
       "      <td>NaN</td>\n",
       "      <td>NaN</td>\n",
       "      <td>2019-01</td>\n",
       "      <td>Not Known</td>\n",
       "      <td>Not Known</td>\n",
       "      <td>Male</td>\n",
       "      <td>Over 34</td>\n",
       "      <td>White</td>\n",
       "      <td>White</td>\n",
       "      <td>Article for use in theft</td>\n",
       "      <td>Not Removal Of More Than Outer Clothing</td>\n",
       "    </tr>\n",
       "  </tbody>\n",
       "</table>\n",
       "</div>"
      ],
      "text/plain": [
       "          n_type  n_latitude  n_longitude n_outcome  n_place  n_month  \\\n",
       "0  Person search         NaN          NaN       NaN      NaN  2019-01   \n",
       "1  Person search         NaN          NaN       NaN      NaN  2019-01   \n",
       "2  Person search   51.350977    -2.979701    Arrest      NaN  2019-01   \n",
       "3  Person search   51.471129    -2.589816       NaN      NaN  2019-01   \n",
       "4  Person search   51.471129    -2.589816       NaN      NaN  2019-01   \n",
       "\n",
       "  n_part_of_policing_operation n_outcome_lnkd_to_obj_of_search n_gender  \\\n",
       "0                    Not Known                       Not Known     Male   \n",
       "1                    Not Known                       Not Known     Male   \n",
       "2                    Not Known         Obj Of Search Was Found     Male   \n",
       "3                    Not Known                       Not Known     Male   \n",
       "4                    Not Known                       Not Known     Male   \n",
       "\n",
       "     n_age n_self_def_eth n_off_def_eth           n_obj_of_search  \\\n",
       "0    18-24      Not Known     Not Known                 Not Known   \n",
       "1    10-17      Not Known     Not Known                 Not Known   \n",
       "2  Over 34          White         White          Controlled drugs   \n",
       "3  Over 34          White         White  Article for use in theft   \n",
       "4  Over 34          White         White  Article for use in theft   \n",
       "\n",
       "                 n_rem_more_than_out_cloth  \n",
       "0                                Not Known  \n",
       "1                                Not Known  \n",
       "2  Not Removal Of More Than Outer Clothing  \n",
       "3  Not Removal Of More Than Outer Clothing  \n",
       "4  Not Removal Of More Than Outer Clothing  "
      ]
     },
     "execution_count": 105,
     "metadata": {},
     "output_type": "execute_result"
    }
   ],
   "source": [
    "data=data.filter(regex='n_',axis=1)\n",
    "data.head()"
   ]
  },
  {
   "cell_type": "code",
   "execution_count": null,
   "metadata": {},
   "outputs": [],
   "source": []
  },
  {
   "cell_type": "markdown",
   "metadata": {},
   "source": [
    "## EDA"
   ]
  },
  {
   "cell_type": "code",
   "execution_count": 106,
   "metadata": {},
   "outputs": [
    {
     "data": {
      "text/html": [
       "<div>\n",
       "<style scoped>\n",
       "    .dataframe tbody tr th:only-of-type {\n",
       "        vertical-align: middle;\n",
       "    }\n",
       "\n",
       "    .dataframe tbody tr th {\n",
       "        vertical-align: top;\n",
       "    }\n",
       "\n",
       "    .dataframe thead th {\n",
       "        text-align: right;\n",
       "    }\n",
       "</style>\n",
       "<table border=\"1\" class=\"dataframe\">\n",
       "  <thead>\n",
       "    <tr style=\"text-align: right;\">\n",
       "      <th></th>\n",
       "      <th>n_month</th>\n",
       "      <th>n_self_def_eth</th>\n",
       "      <th>%White</th>\n",
       "    </tr>\n",
       "  </thead>\n",
       "  <tbody>\n",
       "    <tr>\n",
       "      <th>2</th>\n",
       "      <td>2019-01</td>\n",
       "      <td>White</td>\n",
       "      <td>0.5027</td>\n",
       "    </tr>\n",
       "    <tr>\n",
       "      <th>5</th>\n",
       "      <td>2019-02</td>\n",
       "      <td>White</td>\n",
       "      <td>0.4841</td>\n",
       "    </tr>\n",
       "    <tr>\n",
       "      <th>8</th>\n",
       "      <td>2019-03</td>\n",
       "      <td>White</td>\n",
       "      <td>0.4655</td>\n",
       "    </tr>\n",
       "    <tr>\n",
       "      <th>11</th>\n",
       "      <td>2019-04</td>\n",
       "      <td>White</td>\n",
       "      <td>0.4817</td>\n",
       "    </tr>\n",
       "    <tr>\n",
       "      <th>14</th>\n",
       "      <td>2019-05</td>\n",
       "      <td>White</td>\n",
       "      <td>0.4870</td>\n",
       "    </tr>\n",
       "  </tbody>\n",
       "</table>\n",
       "</div>"
      ],
      "text/plain": [
       "    n_month n_self_def_eth  %White\n",
       "2   2019-01          White  0.5027\n",
       "5   2019-02          White  0.4841\n",
       "8   2019-03          White  0.4655\n",
       "11  2019-04          White  0.4817\n",
       "14  2019-05          White  0.4870"
      ]
     },
     "execution_count": 106,
     "metadata": {},
     "output_type": "execute_result"
    }
   ],
   "source": [
    "r0=data.groupby(['n_month','n_self_def_eth'])['n_type'].count().reset_index()\n",
    "r01=data.groupby(['n_month'])['n_type'].count().reset_index()\n",
    "\n",
    "r01=r01.rename(columns={'n_type':'n_type_tot'})\n",
    "r0=r0.merge(r01,on='n_month',how='left')\n",
    "r0['n_type']=round(r0['n_type']/r0['n_type_tot'],4)\n",
    "r0=r0.drop(['n_type_tot'],axis=1)\n",
    "r0B=r0.loc[r0.n_self_def_eth=='BAME']\n",
    "r0B=r0B.rename(columns={'n_type':'%BAME'})\n",
    "\n",
    "r0W=r0.loc[r0.n_self_def_eth=='White']\n",
    "r0W=r0W.rename(columns={'n_type':'%White'})\n",
    "\n",
    "r0W.head()"
   ]
  },
  {
   "cell_type": "code",
   "execution_count": 107,
   "metadata": {
    "scrolled": true
   },
   "outputs": [
    {
     "data": {
      "image/png": "[encoded data removed]",
      "text/plain": [
       "<Figure size 1440x576 with 1 Axes>"
      ]
     },
     "metadata": {
      "needs_background": "light"
     },
     "output_type": "display_data"
    }
   ],
   "source": [
    "import matplotlib.pyplot as plt\n",
    "import seaborn as sns\n",
    "plt.figure(figsize=(20,8))\n",
    "plt.title(\"MoM % Stop & Search Involving BAME\", fontsize = 20)\n",
    "g=sns.lineplot(x = r0B['n_month'], y = r0B['%BAME'], data=r0B,markers=True)\n",
    "h=sns.lineplot(x = r0W['n_month'], y = r0W['%White'], data=r0W,markers=True)"
   ]
  },
  {
   "cell_type": "markdown",
   "metadata": {},
   "source": [
    "### In case of stop & search involving BAME 82% S&Ss are not part of police operations"
   ]
  },
  {
   "cell_type": "code",
   "execution_count": 108,
   "metadata": {},
   "outputs": [
    {
     "data": {
      "text/html": [
       "<div>\n",
       "<style scoped>\n",
       "    .dataframe tbody tr th:only-of-type {\n",
       "        vertical-align: middle;\n",
       "    }\n",
       "\n",
       "    .dataframe tbody tr th {\n",
       "        vertical-align: top;\n",
       "    }\n",
       "\n",
       "    .dataframe thead th {\n",
       "        text-align: right;\n",
       "    }\n",
       "</style>\n",
       "<table border=\"1\" class=\"dataframe\">\n",
       "  <thead>\n",
       "    <tr style=\"text-align: right;\">\n",
       "      <th></th>\n",
       "      <th>n_self_def_eth</th>\n",
       "      <th>n_part_of_policing_operation</th>\n",
       "      <th>%perc_s&amp;s</th>\n",
       "    </tr>\n",
       "  </thead>\n",
       "  <tbody>\n",
       "    <tr>\n",
       "      <th>0</th>\n",
       "      <td>BAME</td>\n",
       "      <td>Not Known</td>\n",
       "      <td>0.1718</td>\n",
       "    </tr>\n",
       "    <tr>\n",
       "      <th>1</th>\n",
       "      <td>BAME</td>\n",
       "      <td>Not Part Of Policing Op</td>\n",
       "      <td>0.8109</td>\n",
       "    </tr>\n",
       "    <tr>\n",
       "      <th>2</th>\n",
       "      <td>BAME</td>\n",
       "      <td>Part Of Policing Op</td>\n",
       "      <td>0.0173</td>\n",
       "    </tr>\n",
       "    <tr>\n",
       "      <th>3</th>\n",
       "      <td>Not Known</td>\n",
       "      <td>Not Known</td>\n",
       "      <td>0.4858</td>\n",
       "    </tr>\n",
       "    <tr>\n",
       "      <th>4</th>\n",
       "      <td>Not Known</td>\n",
       "      <td>Not Part Of Policing Op</td>\n",
       "      <td>0.4946</td>\n",
       "    </tr>\n",
       "    <tr>\n",
       "      <th>5</th>\n",
       "      <td>Not Known</td>\n",
       "      <td>Part Of Policing Op</td>\n",
       "      <td>0.0196</td>\n",
       "    </tr>\n",
       "    <tr>\n",
       "      <th>6</th>\n",
       "      <td>White</td>\n",
       "      <td>Not Known</td>\n",
       "      <td>0.3909</td>\n",
       "    </tr>\n",
       "    <tr>\n",
       "      <th>7</th>\n",
       "      <td>White</td>\n",
       "      <td>Not Part Of Policing Op</td>\n",
       "      <td>0.5772</td>\n",
       "    </tr>\n",
       "    <tr>\n",
       "      <th>8</th>\n",
       "      <td>White</td>\n",
       "      <td>Part Of Policing Op</td>\n",
       "      <td>0.0319</td>\n",
       "    </tr>\n",
       "  </tbody>\n",
       "</table>\n",
       "</div>"
      ],
      "text/plain": [
       "  n_self_def_eth n_part_of_policing_operation  %perc_s&s\n",
       "0           BAME                    Not Known     0.1718\n",
       "1           BAME      Not Part Of Policing Op     0.8109\n",
       "2           BAME          Part Of Policing Op     0.0173\n",
       "3      Not Known                    Not Known     0.4858\n",
       "4      Not Known      Not Part Of Policing Op     0.4946\n",
       "5      Not Known          Part Of Policing Op     0.0196\n",
       "6          White                    Not Known     0.3909\n",
       "7          White      Not Part Of Policing Op     0.5772\n",
       "8          White          Part Of Policing Op     0.0319"
      ]
     },
     "execution_count": 108,
     "metadata": {},
     "output_type": "execute_result"
    }
   ],
   "source": [
    "a=data.groupby(['n_self_def_eth','n_part_of_policing_operation'])['n_type'].count().reset_index()\n",
    "a1=data.groupby(['n_self_def_eth'])['n_type'].count().reset_index()\n",
    "a1=a1.rename(columns={'n_type':'n_type_tot'})\n",
    "a=a.merge(a1,on=['n_self_def_eth'],how='left')\n",
    "a['%perc_s&s']=round(a['n_type']/a['n_type_tot'],4)\n",
    "a=a.drop(['n_type','n_type_tot'],axis=1)\n",
    "a"
   ]
  },
  {
   "cell_type": "code",
   "execution_count": 109,
   "metadata": {},
   "outputs": [
    {
     "data": {
      "image/png": "[encoded data removed]",
      "text/plain": [
       "<Figure size 432x288 with 1 Axes>"
      ]
     },
     "metadata": {
      "needs_background": "light"
     },
     "output_type": "display_data"
    }
   ],
   "source": [
    "a=a.rename(columns={'%perc_s&s':''})\n",
    "a=a.pivot_table(index=['n_self_def_eth'],\n",
    "                      columns=['n_part_of_policing_operation'], aggfunc='mean').reset_index()\n",
    "a.columns = a.columns.to_series().str.join('')\n",
    "\n",
    "g=a.plot( \n",
    "  x = 'n_self_def_eth',  \n",
    "  kind = 'bar',  \n",
    "  stacked = True,  \n",
    "  title = 'Distribution of Stop & Searches',  \n",
    "  mark_right = True) "
   ]
  },
  {
   "cell_type": "markdown",
   "metadata": {},
   "source": [
    "### In case of stop & search involving BAME which are not part of police operations, times when object of search was found is significantly lesser"
   ]
  },
  {
   "cell_type": "code",
   "execution_count": 110,
   "metadata": {},
   "outputs": [],
   "source": [
    "a=data.loc[data.n_part_of_policing_operation=='Not Part Of Policing Op'].groupby(['n_self_def_eth','n_outcome_lnkd_to_obj_of_search'])['n_type'].count().reset_index()\n",
    "a1=data.loc[data.n_part_of_policing_operation=='Not Part Of Policing Op'].groupby(['n_self_def_eth'])['n_type'].count().reset_index()\n",
    "\n",
    "\n",
    "a1=a1.rename(columns={'n_type':'n_type_tot'})\n",
    "a=a.merge(a1,on=['n_self_def_eth'],how='left')\n",
    "a['%perc_s&s']=round(a['n_type']/a['n_type_tot'],4)\n",
    "a=a.drop(['n_type','n_type_tot'],axis=1)"
   ]
  },
  {
   "cell_type": "code",
   "execution_count": 111,
   "metadata": {},
   "outputs": [
    {
     "data": {
      "image/png": "[encoded data removed]",
      "text/plain": [
       "<Figure size 432x288 with 1 Axes>"
      ]
     },
     "metadata": {
      "needs_background": "light"
     },
     "output_type": "display_data"
    }
   ],
   "source": [
    "a=a.rename(columns={'%perc_s&s':''})\n",
    "a=a.pivot_table(index=['n_self_def_eth'],\n",
    "                      columns=['n_outcome_lnkd_to_obj_of_search'], aggfunc='mean').reset_index()\n",
    "a.columns = a.columns.to_series().str.join('')\n",
    "\n",
    "g=a.plot( \n",
    "  x = 'n_self_def_eth',  \n",
    "  kind = 'bar',  \n",
    "  stacked = True,  \n",
    "  title = 'Distribution of Stop & Searches Which Werent Part Of Policing Ops',  \n",
    "  mark_right = True) "
   ]
  },
  {
   "cell_type": "markdown",
   "metadata": {},
   "source": [
    "### Cases were slightly more for BAME when no action was taken"
   ]
  },
  {
   "cell_type": "code",
   "execution_count": 112,
   "metadata": {},
   "outputs": [],
   "source": [
    "a=data.loc[data.n_part_of_policing_operation=='Not Part Of Policing Op'].groupby(['n_self_def_eth','n_outcome'])['n_type'].count().reset_index()\n",
    "a1=data.loc[data.n_part_of_policing_operation=='Not Part Of Policing Op'].groupby(['n_self_def_eth'])['n_type'].count().reset_index()\n",
    "\n",
    "\n",
    "a1=a1.rename(columns={'n_type':'n_type_tot'})\n",
    "a=a.merge(a1,on=['n_self_def_eth'],how='left')\n",
    "a['%perc_s&s']=round(a['n_type']/a['n_type_tot'],4)\n",
    "a=a.drop(['n_type','n_type_tot'],axis=1)"
   ]
  },
  {
   "cell_type": "code",
   "execution_count": 113,
   "metadata": {},
   "outputs": [
    {
     "data": {
      "image/png": "[encoded data removed]",
      "text/plain": [
       "<Figure size 432x288 with 1 Axes>"
      ]
     },
     "metadata": {
      "needs_background": "light"
     },
     "output_type": "display_data"
    }
   ],
   "source": [
    "a=a.rename(columns={'%perc_s&s':''})\n",
    "a=a.pivot_table(index=['n_self_def_eth'],\n",
    "                      columns=['n_outcome'], aggfunc='mean').reset_index()\n",
    "a.columns = a.columns.to_series().str.join('')\n",
    "\n",
    "g=a.plot( \n",
    "  x = 'n_self_def_eth',  \n",
    "  kind = 'bar',  \n",
    "  stacked = True,  \n",
    "  title = 'Distribution of Stop & Searches Which Werent Part Of Policing Ops',  \n",
    "  mark_right = True) "
   ]
  },
  {
   "cell_type": "code",
   "execution_count": 132,
   "metadata": {},
   "outputs": [
    {
     "ename": "KeyError",
     "evalue": "\"None of [Index(['BAME'], dtype='object')] are in the [columns]\"",
     "output_type": "error",
     "traceback": [
      "\u001b[1;31m---------------------------------------------------------------------------\u001b[0m",
      "\u001b[1;31mKeyError\u001b[0m                                  Traceback (most recent call last)",
      "\u001b[1;32m<ipython-input-132-ce04b34c9d6b>\u001b[0m in \u001b[0;36m<module>\u001b[1;34m\u001b[0m\n\u001b[0;32m     16\u001b[0m \u001b[0mr1\u001b[0m\u001b[1;33m=\u001b[0m\u001b[0mr1\u001b[0m\u001b[1;33m.\u001b[0m\u001b[0mset_index\u001b[0m\u001b[1;33m(\u001b[0m\u001b[1;34m'n_place'\u001b[0m\u001b[1;33m)\u001b[0m\u001b[1;33m\u001b[0m\u001b[1;33m\u001b[0m\u001b[0m\n\u001b[0;32m     17\u001b[0m \u001b[0mr1\u001b[0m\u001b[1;33m.\u001b[0m\u001b[0mindex\u001b[0m\u001b[1;33m.\u001b[0m\u001b[0mname\u001b[0m \u001b[1;33m=\u001b[0m \u001b[1;32mNone\u001b[0m\u001b[1;33m\u001b[0m\u001b[1;33m\u001b[0m\u001b[0m\n\u001b[1;32m---> 18\u001b[1;33m \u001b[0mr1\u001b[0m\u001b[1;33m=\u001b[0m\u001b[0mr1\u001b[0m\u001b[1;33m.\u001b[0m\u001b[0mloc\u001b[0m\u001b[1;33m[\u001b[0m\u001b[1;33m:\u001b[0m\u001b[1;33m,\u001b[0m\u001b[1;33m[\u001b[0m\u001b[1;34m'BAME'\u001b[0m\u001b[1;33m]\u001b[0m\u001b[1;33m]\u001b[0m\u001b[1;33m\u001b[0m\u001b[1;33m\u001b[0m\u001b[0m\n\u001b[0m\u001b[0;32m     19\u001b[0m \u001b[0mr1\u001b[0m\u001b[1;33m.\u001b[0m\u001b[0mhead\u001b[0m\u001b[1;33m(\u001b[0m\u001b[1;33m)\u001b[0m\u001b[1;33m\u001b[0m\u001b[1;33m\u001b[0m\u001b[0m\n",
      "\u001b[1;32m~\\anaconda3\\lib\\site-packages\\pandas\\core\\indexing.py\u001b[0m in \u001b[0;36m__getitem__\u001b[1;34m(self, key)\u001b[0m\n\u001b[0;32m   1760\u001b[0m                 \u001b[1;32mexcept\u001b[0m \u001b[1;33m(\u001b[0m\u001b[0mKeyError\u001b[0m\u001b[1;33m,\u001b[0m \u001b[0mIndexError\u001b[0m\u001b[1;33m,\u001b[0m \u001b[0mAttributeError\u001b[0m\u001b[1;33m)\u001b[0m\u001b[1;33m:\u001b[0m\u001b[1;33m\u001b[0m\u001b[1;33m\u001b[0m\u001b[0m\n\u001b[0;32m   1761\u001b[0m                     \u001b[1;32mpass\u001b[0m\u001b[1;33m\u001b[0m\u001b[1;33m\u001b[0m\u001b[0m\n\u001b[1;32m-> 1762\u001b[1;33m             \u001b[1;32mreturn\u001b[0m \u001b[0mself\u001b[0m\u001b[1;33m.\u001b[0m\u001b[0m_getitem_tuple\u001b[0m\u001b[1;33m(\u001b[0m\u001b[0mkey\u001b[0m\u001b[1;33m)\u001b[0m\u001b[1;33m\u001b[0m\u001b[1;33m\u001b[0m\u001b[0m\n\u001b[0m\u001b[0;32m   1763\u001b[0m         \u001b[1;32melse\u001b[0m\u001b[1;33m:\u001b[0m\u001b[1;33m\u001b[0m\u001b[1;33m\u001b[0m\u001b[0m\n\u001b[0;32m   1764\u001b[0m             \u001b[1;31m# we by definition only have the 0th axis\u001b[0m\u001b[1;33m\u001b[0m\u001b[1;33m\u001b[0m\u001b[1;33m\u001b[0m\u001b[0m\n",
      "\u001b[1;32m~\\anaconda3\\lib\\site-packages\\pandas\\core\\indexing.py\u001b[0m in \u001b[0;36m_getitem_tuple\u001b[1;34m(self, tup)\u001b[0m\n\u001b[0;32m   1287\u001b[0m                 \u001b[1;32mcontinue\u001b[0m\u001b[1;33m\u001b[0m\u001b[1;33m\u001b[0m\u001b[0m\n\u001b[0;32m   1288\u001b[0m \u001b[1;33m\u001b[0m\u001b[0m\n\u001b[1;32m-> 1289\u001b[1;33m             \u001b[0mretval\u001b[0m \u001b[1;33m=\u001b[0m \u001b[0mgetattr\u001b[0m\u001b[1;33m(\u001b[0m\u001b[0mretval\u001b[0m\u001b[1;33m,\u001b[0m \u001b[0mself\u001b[0m\u001b[1;33m.\u001b[0m\u001b[0mname\u001b[0m\u001b[1;33m)\u001b[0m\u001b[1;33m.\u001b[0m\u001b[0m_getitem_axis\u001b[0m\u001b[1;33m(\u001b[0m\u001b[0mkey\u001b[0m\u001b[1;33m,\u001b[0m \u001b[0maxis\u001b[0m\u001b[1;33m=\u001b[0m\u001b[0mi\u001b[0m\u001b[1;33m)\u001b[0m\u001b[1;33m\u001b[0m\u001b[1;33m\u001b[0m\u001b[0m\n\u001b[0m\u001b[0;32m   1290\u001b[0m \u001b[1;33m\u001b[0m\u001b[0m\n\u001b[0;32m   1291\u001b[0m         \u001b[1;32mreturn\u001b[0m \u001b[0mretval\u001b[0m\u001b[1;33m\u001b[0m\u001b[1;33m\u001b[0m\u001b[0m\n",
      "\u001b[1;32m~\\anaconda3\\lib\\site-packages\\pandas\\core\\indexing.py\u001b[0m in \u001b[0;36m_getitem_axis\u001b[1;34m(self, key, axis)\u001b[0m\n\u001b[0;32m   1952\u001b[0m                     \u001b[1;32mraise\u001b[0m \u001b[0mValueError\u001b[0m\u001b[1;33m(\u001b[0m\u001b[1;34m\"Cannot index with multidimensional key\"\u001b[0m\u001b[1;33m)\u001b[0m\u001b[1;33m\u001b[0m\u001b[1;33m\u001b[0m\u001b[0m\n\u001b[0;32m   1953\u001b[0m \u001b[1;33m\u001b[0m\u001b[0m\n\u001b[1;32m-> 1954\u001b[1;33m                 \u001b[1;32mreturn\u001b[0m \u001b[0mself\u001b[0m\u001b[1;33m.\u001b[0m\u001b[0m_getitem_iterable\u001b[0m\u001b[1;33m(\u001b[0m\u001b[0mkey\u001b[0m\u001b[1;33m,\u001b[0m \u001b[0maxis\u001b[0m\u001b[1;33m=\u001b[0m\u001b[0maxis\u001b[0m\u001b[1;33m)\u001b[0m\u001b[1;33m\u001b[0m\u001b[1;33m\u001b[0m\u001b[0m\n\u001b[0m\u001b[0;32m   1955\u001b[0m \u001b[1;33m\u001b[0m\u001b[0m\n\u001b[0;32m   1956\u001b[0m             \u001b[1;31m# nested tuple slicing\u001b[0m\u001b[1;33m\u001b[0m\u001b[1;33m\u001b[0m\u001b[1;33m\u001b[0m\u001b[0m\n",
      "\u001b[1;32m~\\anaconda3\\lib\\site-packages\\pandas\\core\\indexing.py\u001b[0m in \u001b[0;36m_getitem_iterable\u001b[1;34m(self, key, axis)\u001b[0m\n\u001b[0;32m   1593\u001b[0m         \u001b[1;32melse\u001b[0m\u001b[1;33m:\u001b[0m\u001b[1;33m\u001b[0m\u001b[1;33m\u001b[0m\u001b[0m\n\u001b[0;32m   1594\u001b[0m             \u001b[1;31m# A collection of keys\u001b[0m\u001b[1;33m\u001b[0m\u001b[1;33m\u001b[0m\u001b[1;33m\u001b[0m\u001b[0m\n\u001b[1;32m-> 1595\u001b[1;33m             \u001b[0mkeyarr\u001b[0m\u001b[1;33m,\u001b[0m \u001b[0mindexer\u001b[0m \u001b[1;33m=\u001b[0m \u001b[0mself\u001b[0m\u001b[1;33m.\u001b[0m\u001b[0m_get_listlike_indexer\u001b[0m\u001b[1;33m(\u001b[0m\u001b[0mkey\u001b[0m\u001b[1;33m,\u001b[0m \u001b[0maxis\u001b[0m\u001b[1;33m,\u001b[0m \u001b[0mraise_missing\u001b[0m\u001b[1;33m=\u001b[0m\u001b[1;32mFalse\u001b[0m\u001b[1;33m)\u001b[0m\u001b[1;33m\u001b[0m\u001b[1;33m\u001b[0m\u001b[0m\n\u001b[0m\u001b[0;32m   1596\u001b[0m             return self.obj._reindex_with_indexers(\n\u001b[0;32m   1597\u001b[0m                 \u001b[1;33m{\u001b[0m\u001b[0maxis\u001b[0m\u001b[1;33m:\u001b[0m \u001b[1;33m[\u001b[0m\u001b[0mkeyarr\u001b[0m\u001b[1;33m,\u001b[0m \u001b[0mindexer\u001b[0m\u001b[1;33m]\u001b[0m\u001b[1;33m}\u001b[0m\u001b[1;33m,\u001b[0m \u001b[0mcopy\u001b[0m\u001b[1;33m=\u001b[0m\u001b[1;32mTrue\u001b[0m\u001b[1;33m,\u001b[0m \u001b[0mallow_dups\u001b[0m\u001b[1;33m=\u001b[0m\u001b[1;32mTrue\u001b[0m\u001b[1;33m\u001b[0m\u001b[1;33m\u001b[0m\u001b[0m\n",
      "\u001b[1;32m~\\anaconda3\\lib\\site-packages\\pandas\\core\\indexing.py\u001b[0m in \u001b[0;36m_get_listlike_indexer\u001b[1;34m(self, key, axis, raise_missing)\u001b[0m\n\u001b[0;32m   1550\u001b[0m             \u001b[0mkeyarr\u001b[0m\u001b[1;33m,\u001b[0m \u001b[0mindexer\u001b[0m\u001b[1;33m,\u001b[0m \u001b[0mnew_indexer\u001b[0m \u001b[1;33m=\u001b[0m \u001b[0max\u001b[0m\u001b[1;33m.\u001b[0m\u001b[0m_reindex_non_unique\u001b[0m\u001b[1;33m(\u001b[0m\u001b[0mkeyarr\u001b[0m\u001b[1;33m)\u001b[0m\u001b[1;33m\u001b[0m\u001b[1;33m\u001b[0m\u001b[0m\n\u001b[0;32m   1551\u001b[0m \u001b[1;33m\u001b[0m\u001b[0m\n\u001b[1;32m-> 1552\u001b[1;33m         self._validate_read_indexer(\n\u001b[0m\u001b[0;32m   1553\u001b[0m             \u001b[0mkeyarr\u001b[0m\u001b[1;33m,\u001b[0m \u001b[0mindexer\u001b[0m\u001b[1;33m,\u001b[0m \u001b[0mo\u001b[0m\u001b[1;33m.\u001b[0m\u001b[0m_get_axis_number\u001b[0m\u001b[1;33m(\u001b[0m\u001b[0maxis\u001b[0m\u001b[1;33m)\u001b[0m\u001b[1;33m,\u001b[0m \u001b[0mraise_missing\u001b[0m\u001b[1;33m=\u001b[0m\u001b[0mraise_missing\u001b[0m\u001b[1;33m\u001b[0m\u001b[1;33m\u001b[0m\u001b[0m\n\u001b[0;32m   1554\u001b[0m         )\n",
      "\u001b[1;32m~\\anaconda3\\lib\\site-packages\\pandas\\core\\indexing.py\u001b[0m in \u001b[0;36m_validate_read_indexer\u001b[1;34m(self, key, indexer, axis, raise_missing)\u001b[0m\n\u001b[0;32m   1638\u001b[0m             \u001b[1;32mif\u001b[0m \u001b[0mmissing\u001b[0m \u001b[1;33m==\u001b[0m \u001b[0mlen\u001b[0m\u001b[1;33m(\u001b[0m\u001b[0mindexer\u001b[0m\u001b[1;33m)\u001b[0m\u001b[1;33m:\u001b[0m\u001b[1;33m\u001b[0m\u001b[1;33m\u001b[0m\u001b[0m\n\u001b[0;32m   1639\u001b[0m                 \u001b[0maxis_name\u001b[0m \u001b[1;33m=\u001b[0m \u001b[0mself\u001b[0m\u001b[1;33m.\u001b[0m\u001b[0mobj\u001b[0m\u001b[1;33m.\u001b[0m\u001b[0m_get_axis_name\u001b[0m\u001b[1;33m(\u001b[0m\u001b[0maxis\u001b[0m\u001b[1;33m)\u001b[0m\u001b[1;33m\u001b[0m\u001b[1;33m\u001b[0m\u001b[0m\n\u001b[1;32m-> 1640\u001b[1;33m                 \u001b[1;32mraise\u001b[0m \u001b[0mKeyError\u001b[0m\u001b[1;33m(\u001b[0m\u001b[1;34mf\"None of [{key}] are in the [{axis_name}]\"\u001b[0m\u001b[1;33m)\u001b[0m\u001b[1;33m\u001b[0m\u001b[1;33m\u001b[0m\u001b[0m\n\u001b[0m\u001b[0;32m   1641\u001b[0m \u001b[1;33m\u001b[0m\u001b[0m\n\u001b[0;32m   1642\u001b[0m             \u001b[1;31m# We (temporarily) allow for some missing keys with .loc, except in\u001b[0m\u001b[1;33m\u001b[0m\u001b[1;33m\u001b[0m\u001b[1;33m\u001b[0m\u001b[0m\n",
      "\u001b[1;31mKeyError\u001b[0m: \"None of [Index(['BAME'], dtype='object')] are in the [columns]\""
     ]
    }
   ],
   "source": [
    "r1=data.loc[(data.n_part_of_policing_operation=='Not Part Of Policing Op') &\n",
    "           (data.n_outcome_lnkd_to_obj_of_search=='Obj Of Search Was Not Found')].groupby(['n_place','n_self_def_eth'])['n_type'].count().reset_index()\n",
    "r11=data.loc[(data.n_part_of_policing_operation=='Not Part Of Policing Op') &\n",
    "            (data.n_outcome_lnkd_to_obj_of_search=='Obj Of Search Was Not Found')].groupby(['n_place'])['n_type'].count().reset_index()\n",
    "\n",
    "\n",
    "r11=r11.rename(columns={'n_type':'n_type_tot'})\n",
    "r1=r1.merge(r11,on='n_place',how='left')\n",
    "r1['n_type']=round(r1['n_type']/r1['n_type_tot'],4)\n",
    "r1=r1.drop(['n_type_tot'],axis=1)\n",
    "r1=r1.rename(columns={'n_type':''})\n",
    "r1=r1.pivot_table(index=['n_place'],\n",
    "                      columns=['n_self_def_eth'], aggfunc='mean').reset_index()\n",
    "r1.columns = r1.columns.to_series().str.join('')\n",
    "\n",
    "r1=r1.set_index('n_place')\n",
    "r1.index.name = None\n",
    "r1=r1.loc[:,['BAME']]\n",
    "r1.head()"
   ]
  },
  {
   "cell_type": "code",
   "execution_count": 115,
   "metadata": {},
   "outputs": [
    {
     "ename": "TypeError",
     "evalue": "no numeric data to plot",
     "output_type": "error",
     "traceback": [
      "\u001b[1;31m---------------------------------------------------------------------------\u001b[0m",
      "\u001b[1;31mTypeError\u001b[0m                                 Traceback (most recent call last)",
      "\u001b[1;32m<ipython-input-115-74da55fb9974>\u001b[0m in \u001b[0;36m<module>\u001b[1;34m\u001b[0m\n\u001b[0;32m      2\u001b[0m \u001b[1;32mfrom\u001b[0m \u001b[0mmatplotlib\u001b[0m\u001b[1;33m.\u001b[0m\u001b[0mticker\u001b[0m \u001b[1;32mimport\u001b[0m \u001b[0mStrMethodFormatter\u001b[0m\u001b[1;33m\u001b[0m\u001b[1;33m\u001b[0m\u001b[0m\n\u001b[0;32m      3\u001b[0m \u001b[1;33m\u001b[0m\u001b[0m\n\u001b[1;32m----> 4\u001b[1;33m \u001b[0max\u001b[0m \u001b[1;33m=\u001b[0m \u001b[0mr1\u001b[0m\u001b[1;33m.\u001b[0m\u001b[0mplot\u001b[0m\u001b[1;33m(\u001b[0m\u001b[0mkind\u001b[0m\u001b[1;33m=\u001b[0m\u001b[1;34m'barh'\u001b[0m\u001b[1;33m,\u001b[0m \u001b[0mfigsize\u001b[0m\u001b[1;33m=\u001b[0m\u001b[1;33m(\u001b[0m\u001b[1;36m8\u001b[0m\u001b[1;33m,\u001b[0m \u001b[1;36m20\u001b[0m\u001b[1;33m)\u001b[0m\u001b[1;33m,\u001b[0m \u001b[0mzorder\u001b[0m\u001b[1;33m=\u001b[0m\u001b[1;36m2\u001b[0m\u001b[1;33m,\u001b[0m \u001b[0mwidth\u001b[0m\u001b[1;33m=\u001b[0m\u001b[1;36m0.85\u001b[0m\u001b[1;33m)\u001b[0m\u001b[1;33m\u001b[0m\u001b[1;33m\u001b[0m\u001b[0m\n\u001b[0m\u001b[0;32m      5\u001b[0m \u001b[1;33m\u001b[0m\u001b[0m\n\u001b[0;32m      6\u001b[0m \u001b[1;31m# Despine\u001b[0m\u001b[1;33m\u001b[0m\u001b[1;33m\u001b[0m\u001b[1;33m\u001b[0m\u001b[0m\n",
      "\u001b[1;32m~\\anaconda3\\lib\\site-packages\\pandas\\plotting\\_core.py\u001b[0m in \u001b[0;36m__call__\u001b[1;34m(self, *args, **kwargs)\u001b[0m\n\u001b[0;32m    845\u001b[0m                     \u001b[0mdata\u001b[0m\u001b[1;33m.\u001b[0m\u001b[0mcolumns\u001b[0m \u001b[1;33m=\u001b[0m \u001b[0mlabel_name\u001b[0m\u001b[1;33m\u001b[0m\u001b[1;33m\u001b[0m\u001b[0m\n\u001b[0;32m    846\u001b[0m \u001b[1;33m\u001b[0m\u001b[0m\n\u001b[1;32m--> 847\u001b[1;33m         \u001b[1;32mreturn\u001b[0m \u001b[0mplot_backend\u001b[0m\u001b[1;33m.\u001b[0m\u001b[0mplot\u001b[0m\u001b[1;33m(\u001b[0m\u001b[0mdata\u001b[0m\u001b[1;33m,\u001b[0m \u001b[0mkind\u001b[0m\u001b[1;33m=\u001b[0m\u001b[0mkind\u001b[0m\u001b[1;33m,\u001b[0m \u001b[1;33m**\u001b[0m\u001b[0mkwargs\u001b[0m\u001b[1;33m)\u001b[0m\u001b[1;33m\u001b[0m\u001b[1;33m\u001b[0m\u001b[0m\n\u001b[0m\u001b[0;32m    848\u001b[0m \u001b[1;33m\u001b[0m\u001b[0m\n\u001b[0;32m    849\u001b[0m     \u001b[0m__call__\u001b[0m\u001b[1;33m.\u001b[0m\u001b[0m__doc__\u001b[0m \u001b[1;33m=\u001b[0m \u001b[0m__doc__\u001b[0m\u001b[1;33m\u001b[0m\u001b[1;33m\u001b[0m\u001b[0m\n",
      "\u001b[1;32m~\\anaconda3\\lib\\site-packages\\pandas\\plotting\\_matplotlib\\__init__.py\u001b[0m in \u001b[0;36mplot\u001b[1;34m(data, kind, **kwargs)\u001b[0m\n\u001b[0;32m     59\u001b[0m             \u001b[0mkwargs\u001b[0m\u001b[1;33m[\u001b[0m\u001b[1;34m\"ax\"\u001b[0m\u001b[1;33m]\u001b[0m \u001b[1;33m=\u001b[0m \u001b[0mgetattr\u001b[0m\u001b[1;33m(\u001b[0m\u001b[0max\u001b[0m\u001b[1;33m,\u001b[0m \u001b[1;34m\"left_ax\"\u001b[0m\u001b[1;33m,\u001b[0m \u001b[0max\u001b[0m\u001b[1;33m)\u001b[0m\u001b[1;33m\u001b[0m\u001b[1;33m\u001b[0m\u001b[0m\n\u001b[0;32m     60\u001b[0m     \u001b[0mplot_obj\u001b[0m \u001b[1;33m=\u001b[0m \u001b[0mPLOT_CLASSES\u001b[0m\u001b[1;33m[\u001b[0m\u001b[0mkind\u001b[0m\u001b[1;33m]\u001b[0m\u001b[1;33m(\u001b[0m\u001b[0mdata\u001b[0m\u001b[1;33m,\u001b[0m \u001b[1;33m**\u001b[0m\u001b[0mkwargs\u001b[0m\u001b[1;33m)\u001b[0m\u001b[1;33m\u001b[0m\u001b[1;33m\u001b[0m\u001b[0m\n\u001b[1;32m---> 61\u001b[1;33m     \u001b[0mplot_obj\u001b[0m\u001b[1;33m.\u001b[0m\u001b[0mgenerate\u001b[0m\u001b[1;33m(\u001b[0m\u001b[1;33m)\u001b[0m\u001b[1;33m\u001b[0m\u001b[1;33m\u001b[0m\u001b[0m\n\u001b[0m\u001b[0;32m     62\u001b[0m     \u001b[0mplot_obj\u001b[0m\u001b[1;33m.\u001b[0m\u001b[0mdraw\u001b[0m\u001b[1;33m(\u001b[0m\u001b[1;33m)\u001b[0m\u001b[1;33m\u001b[0m\u001b[1;33m\u001b[0m\u001b[0m\n\u001b[0;32m     63\u001b[0m     \u001b[1;32mreturn\u001b[0m \u001b[0mplot_obj\u001b[0m\u001b[1;33m.\u001b[0m\u001b[0mresult\u001b[0m\u001b[1;33m\u001b[0m\u001b[1;33m\u001b[0m\u001b[0m\n",
      "\u001b[1;32m~\\anaconda3\\lib\\site-packages\\pandas\\plotting\\_matplotlib\\core.py\u001b[0m in \u001b[0;36mgenerate\u001b[1;34m(self)\u001b[0m\n\u001b[0;32m    259\u001b[0m     \u001b[1;32mdef\u001b[0m \u001b[0mgenerate\u001b[0m\u001b[1;33m(\u001b[0m\u001b[0mself\u001b[0m\u001b[1;33m)\u001b[0m\u001b[1;33m:\u001b[0m\u001b[1;33m\u001b[0m\u001b[1;33m\u001b[0m\u001b[0m\n\u001b[0;32m    260\u001b[0m         \u001b[0mself\u001b[0m\u001b[1;33m.\u001b[0m\u001b[0m_args_adjust\u001b[0m\u001b[1;33m(\u001b[0m\u001b[1;33m)\u001b[0m\u001b[1;33m\u001b[0m\u001b[1;33m\u001b[0m\u001b[0m\n\u001b[1;32m--> 261\u001b[1;33m         \u001b[0mself\u001b[0m\u001b[1;33m.\u001b[0m\u001b[0m_compute_plot_data\u001b[0m\u001b[1;33m(\u001b[0m\u001b[1;33m)\u001b[0m\u001b[1;33m\u001b[0m\u001b[1;33m\u001b[0m\u001b[0m\n\u001b[0m\u001b[0;32m    262\u001b[0m         \u001b[0mself\u001b[0m\u001b[1;33m.\u001b[0m\u001b[0m_setup_subplots\u001b[0m\u001b[1;33m(\u001b[0m\u001b[1;33m)\u001b[0m\u001b[1;33m\u001b[0m\u001b[1;33m\u001b[0m\u001b[0m\n\u001b[0;32m    263\u001b[0m         \u001b[0mself\u001b[0m\u001b[1;33m.\u001b[0m\u001b[0m_make_plot\u001b[0m\u001b[1;33m(\u001b[0m\u001b[1;33m)\u001b[0m\u001b[1;33m\u001b[0m\u001b[1;33m\u001b[0m\u001b[0m\n",
      "\u001b[1;32m~\\anaconda3\\lib\\site-packages\\pandas\\plotting\\_matplotlib\\core.py\u001b[0m in \u001b[0;36m_compute_plot_data\u001b[1;34m(self)\u001b[0m\n\u001b[0;32m    408\u001b[0m         \u001b[1;31m# no non-numeric frames or series allowed\u001b[0m\u001b[1;33m\u001b[0m\u001b[1;33m\u001b[0m\u001b[1;33m\u001b[0m\u001b[0m\n\u001b[0;32m    409\u001b[0m         \u001b[1;32mif\u001b[0m \u001b[0mis_empty\u001b[0m\u001b[1;33m:\u001b[0m\u001b[1;33m\u001b[0m\u001b[1;33m\u001b[0m\u001b[0m\n\u001b[1;32m--> 410\u001b[1;33m             \u001b[1;32mraise\u001b[0m \u001b[0mTypeError\u001b[0m\u001b[1;33m(\u001b[0m\u001b[1;34m\"no numeric data to plot\"\u001b[0m\u001b[1;33m)\u001b[0m\u001b[1;33m\u001b[0m\u001b[1;33m\u001b[0m\u001b[0m\n\u001b[0m\u001b[0;32m    411\u001b[0m \u001b[1;33m\u001b[0m\u001b[0m\n\u001b[0;32m    412\u001b[0m         \u001b[1;31m# GH25587: cast ExtensionArray of pandas (IntegerArray, etc.) to\u001b[0m\u001b[1;33m\u001b[0m\u001b[1;33m\u001b[0m\u001b[1;33m\u001b[0m\u001b[0m\n",
      "\u001b[1;31mTypeError\u001b[0m: no numeric data to plot"
     ]
    }
   ],
   "source": [
    "from matplotlib import pyplot as plt\n",
    "from matplotlib.ticker import StrMethodFormatter\n",
    "\n",
    "ax = r1.plot(kind='barh', figsize=(8, 20), zorder=2, width=0.85)\n",
    "\n",
    "# Despine\n",
    "ax.spines['right'].set_visible(False)\n",
    "ax.spines['top'].set_visible(False)\n",
    "ax.spines['left'].set_visible(False)\n",
    "ax.spines['bottom'].set_visible(False)\n",
    "\n",
    "# Switch off ticks\n",
    "ax.tick_params(axis=\"both\", which=\"both\", bottom=\"off\", top=\"off\", labelbottom=\"on\", left=\"off\", right=\"off\", labelleft=\"on\")\n",
    "\n",
    "# Draw vertical axis lines\n",
    "vals = ax.get_xticks()\n",
    "for tick in vals:\n",
    "    ax.axvline(x=tick, linestyle='dashed', alpha=0.4, color='#eeeeee', zorder=1)\n",
    "\n",
    "# Set x-axis label\n",
    "ax.set_xlabel(\"Stop & Search Freq\", labelpad=20, weight='bold', size=12)\n",
    "\n",
    "# Set y-axis label\n",
    "ax.set_ylabel(\"Constabulary\", labelpad=20, weight='bold', size=12)\n",
    "\n",
    "# Format y-axis label\n",
    "ax.xaxis.set_major_formatter(StrMethodFormatter('{x:,g}'))"
   ]
  },
  {
   "cell_type": "code",
   "execution_count": null,
   "metadata": {},
   "outputs": [],
   "source": []
  }
 ],
 "metadata": {
  "kernelspec": {
   "display_name": "Python 3",
   "language": "python",
   "name": "python3"
  },
  "language_info": {
   "codemirror_mode": {
    "name": "ipython",
    "version": 3
   },
   "file_extension": ".py",
   "mimetype": "text/x-python",
   "name": "python",
   "nbconvert_exporter": "python",
   "pygments_lexer": "ipython3",
   "version": "3.8.3"
  }
 },
 "nbformat": 4,
 "nbformat_minor": 4
}
