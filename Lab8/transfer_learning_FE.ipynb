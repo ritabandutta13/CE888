{
  "nbformat": 4,
  "nbformat_minor": 0,
  "metadata": {
    "colab": {
      "name": "Copy of Lab8_transfer_learning_FE.ipynb",
      "provenance": [],
      "collapsed_sections": [],
      "machine_shape": "hm",
      "include_colab_link": true
    },
    "kernelspec": {
      "display_name": "Python 3",
      "name": "python3"
    },
    "accelerator": "GPU"
  },
  "cells": [
    {
      "cell_type": "markdown",
      "metadata": {
        "id": "view-in-github",
        "colab_type": "text"
      },
      "source": [
        "<a href=\"https://colab.research.google.com/github/ritabandutta13/CE888/blob/main/Lab8/transfer_learning_FE.ipynb\" target=\"_parent\"><img src=\"https://colab.research.google.com/assets/colab-badge.svg\" alt=\"Open In Colab\"/></a>"
      ]
    },
    {
      "cell_type": "code",
      "metadata": {
        "id": "ZvR-jxwB899Q",
        "colab": {
          "base_uri": "https://localhost:8080/"
        },
        "outputId": "b775342e-1f3a-483a-e8af-ab5b55b90b08"
      },
      "source": [
        "from google.colab import drive\n",
        "drive.mount('/content/drive/')"
      ],
      "execution_count": null,
      "outputs": [
        {
          "output_type": "stream",
          "text": [
            "Mounted at /content/drive/\n"
          ],
          "name": "stdout"
        }
      ]
    },
    {
      "cell_type": "code",
      "metadata": {
        "id": "XRz1m7yuEE-i"
      },
      "source": [
        "#!ls \"/content/drive/My Drive\""
      ],
      "execution_count": null,
      "outputs": []
    },
    {
      "cell_type": "code",
      "metadata": {
        "id": "JrnMESgnAnk2",
        "colab": {
          "base_uri": "https://localhost:8080/"
        },
        "outputId": "98bd0038-89dc-482a-d2d0-41b5f15bd544"
      },
      "source": [
        "#unzip file\n",
        "!unzip -u \"/content/drive/MyDrive/data.zip\""
      ],
      "execution_count": null,
      "outputs": [
        {
          "output_type": "stream",
          "text": [
            "Archive:  /content/drive/MyDrive/data.zip\n",
            "   creating: data/\n",
            "   creating: data/cats/\n",
            "  inflating: data/cats/cat.1.jpg     \n",
            "  inflating: data/cats/cat.10.jpg    \n",
            "  inflating: data/cats/cat.100.jpg   \n",
            "  inflating: data/cats/cat.101.jpg   \n",
            "  inflating: data/cats/cat.102.jpg   \n",
            "  inflating: data/cats/cat.103.jpg   \n",
            "  inflating: data/cats/cat.104.jpg   \n",
            "  inflating: data/cats/cat.105.jpg   \n",
            "  inflating: data/cats/cat.106.jpg   \n",
            "  inflating: data/cats/cat.107.jpg   \n",
            "  inflating: data/cats/cat.108.jpg   \n",
            "  inflating: data/cats/cat.109.jpg   \n",
            "  inflating: data/cats/cat.11.jpg    \n",
            "  inflating: data/cats/cat.110.jpg   \n",
            "  inflating: data/cats/cat.111.jpg   \n",
            "  inflating: data/cats/cat.112.jpg   \n",
            "  inflating: data/cats/cat.113.jpg   \n",
            "  inflating: data/cats/cat.114.jpg   \n",
            "  inflating: data/cats/cat.115.jpg   \n",
            "  inflating: data/cats/cat.116.jpg   \n",
            "  inflating: data/cats/cat.117.jpg   \n",
            "  inflating: data/cats/cat.118.jpg   \n",
            "  inflating: data/cats/cat.119.jpg   \n",
            "  inflating: data/cats/cat.12.jpg    \n",
            "  inflating: data/cats/cat.120.jpg   \n",
            "  inflating: data/cats/cat.121.jpg   \n",
            "  inflating: data/cats/cat.122.jpg   \n",
            "  inflating: data/cats/cat.123.jpg   \n",
            "  inflating: data/cats/cat.124.jpg   \n",
            "  inflating: data/cats/cat.125.jpg   \n",
            "  inflating: data/cats/cat.126.jpg   \n",
            "  inflating: data/cats/cat.127.jpg   \n",
            "  inflating: data/cats/cat.128.jpg   \n",
            "  inflating: data/cats/cat.129.jpg   \n",
            "  inflating: data/cats/cat.13.jpg    \n",
            "  inflating: data/cats/cat.130.jpg   \n",
            "  inflating: data/cats/cat.131.jpg   \n",
            "  inflating: data/cats/cat.132.jpg   \n",
            "  inflating: data/cats/cat.133.jpg   \n",
            "  inflating: data/cats/cat.134.jpg   \n",
            "  inflating: data/cats/cat.135.jpg   \n",
            "  inflating: data/cats/cat.136.jpg   \n",
            "  inflating: data/cats/cat.137.jpg   \n",
            "  inflating: data/cats/cat.138.jpg   \n",
            "  inflating: data/cats/cat.139.jpg   \n",
            "  inflating: data/cats/cat.14.jpg    \n",
            "  inflating: data/cats/cat.140.jpg   \n",
            "  inflating: data/cats/cat.141.jpg   \n",
            "  inflating: data/cats/cat.142.jpg   \n",
            "  inflating: data/cats/cat.143.jpg   \n",
            "  inflating: data/cats/cat.144.jpg   \n",
            "  inflating: data/cats/cat.145.jpg   \n",
            "  inflating: data/cats/cat.146.jpg   \n",
            "  inflating: data/cats/cat.147.jpg   \n",
            "  inflating: data/cats/cat.148.jpg   \n",
            "  inflating: data/cats/cat.149.jpg   \n",
            "  inflating: data/cats/cat.15.jpg    \n",
            "  inflating: data/cats/cat.150.jpg   \n",
            "  inflating: data/cats/cat.151.jpg   \n",
            "  inflating: data/cats/cat.152.jpg   \n",
            "  inflating: data/cats/cat.153.jpg   \n",
            "  inflating: data/cats/cat.154.jpg   \n",
            "  inflating: data/cats/cat.155.jpg   \n",
            "  inflating: data/cats/cat.156.jpg   \n",
            "  inflating: data/cats/cat.157.jpg   \n",
            "  inflating: data/cats/cat.158.jpg   \n",
            "  inflating: data/cats/cat.159.jpg   \n",
            "  inflating: data/cats/cat.16.jpg    \n",
            "  inflating: data/cats/cat.160.jpg   \n",
            "  inflating: data/cats/cat.161.jpg   \n",
            "  inflating: data/cats/cat.162.jpg   \n",
            "  inflating: data/cats/cat.163.jpg   \n",
            "  inflating: data/cats/cat.164.jpg   \n",
            "  inflating: data/cats/cat.165.jpg   \n",
            "  inflating: data/cats/cat.166.jpg   \n",
            "  inflating: data/cats/cat.167.jpg   \n",
            "  inflating: data/cats/cat.168.jpg   \n",
            "  inflating: data/cats/cat.169.jpg   \n",
            "  inflating: data/cats/cat.17.jpg    \n",
            "  inflating: data/cats/cat.170.jpg   \n",
            "  inflating: data/cats/cat.171.jpg   \n",
            "  inflating: data/cats/cat.172.jpg   \n",
            "  inflating: data/cats/cat.173.jpg   \n",
            "  inflating: data/cats/cat.174.jpg   \n",
            "  inflating: data/cats/cat.175.jpg   \n",
            "  inflating: data/cats/cat.176.jpg   \n",
            "  inflating: data/cats/cat.177.jpg   \n",
            "  inflating: data/cats/cat.178.jpg   \n",
            "  inflating: data/cats/cat.179.jpg   \n",
            "  inflating: data/cats/cat.18.jpg    \n",
            "  inflating: data/cats/cat.180.jpg   \n",
            "  inflating: data/cats/cat.181.jpg   \n",
            "  inflating: data/cats/cat.182.jpg   \n",
            "  inflating: data/cats/cat.183.jpg   \n",
            "  inflating: data/cats/cat.184.jpg   \n",
            "  inflating: data/cats/cat.185.jpg   \n",
            "  inflating: data/cats/cat.186.jpg   \n",
            "  inflating: data/cats/cat.187.jpg   \n",
            "  inflating: data/cats/cat.188.jpg   \n",
            "  inflating: data/cats/cat.189.jpg   \n",
            "  inflating: data/cats/cat.19.jpg    \n",
            "  inflating: data/cats/cat.190.jpg   \n",
            "  inflating: data/cats/cat.191.jpg   \n",
            "  inflating: data/cats/cat.192.jpg   \n",
            "  inflating: data/cats/cat.193.jpg   \n",
            "  inflating: data/cats/cat.194.jpg   \n",
            "  inflating: data/cats/cat.195.jpg   \n",
            "  inflating: data/cats/cat.196.jpg   \n",
            "  inflating: data/cats/cat.197.jpg   \n",
            "  inflating: data/cats/cat.198.jpg   \n",
            "  inflating: data/cats/cat.199.jpg   \n",
            "  inflating: data/cats/cat.2.jpg     \n",
            "  inflating: data/cats/cat.20.jpg    \n",
            "  inflating: data/cats/cat.200.jpg   \n",
            "  inflating: data/cats/cat.201.jpg   \n",
            "  inflating: data/cats/cat.202.jpg   \n",
            "  inflating: data/cats/cat.21.jpg    \n",
            "  inflating: data/cats/cat.22.jpg    \n",
            "  inflating: data/cats/cat.23.jpg    \n",
            "  inflating: data/cats/cat.24.jpg    \n",
            "  inflating: data/cats/cat.25.jpg    \n",
            "  inflating: data/cats/cat.26.jpg    \n",
            "  inflating: data/cats/cat.27.jpg    \n",
            "  inflating: data/cats/cat.28.jpg    \n",
            "  inflating: data/cats/cat.29.jpg    \n",
            "  inflating: data/cats/cat.3.jpg     \n",
            "  inflating: data/cats/cat.30.jpg    \n",
            "  inflating: data/cats/cat.31.jpg    \n",
            "  inflating: data/cats/cat.32.jpg    \n",
            "  inflating: data/cats/cat.33.jpg    \n",
            "  inflating: data/cats/cat.34.jpg    \n",
            "  inflating: data/cats/cat.35.jpg    \n",
            "  inflating: data/cats/cat.36.jpg    \n",
            "  inflating: data/cats/cat.37.jpg    \n",
            "  inflating: data/cats/cat.38.jpg    \n",
            "  inflating: data/cats/cat.39.jpg    \n",
            "  inflating: data/cats/cat.4.jpg     \n",
            "  inflating: data/cats/cat.40.jpg    \n",
            "  inflating: data/cats/cat.41.jpg    \n",
            "  inflating: data/cats/cat.42.jpg    \n",
            "  inflating: data/cats/cat.43.jpg    \n",
            "  inflating: data/cats/cat.44.jpg    \n",
            "  inflating: data/cats/cat.45.jpg    \n",
            "  inflating: data/cats/cat.46.jpg    \n",
            "  inflating: data/cats/cat.47.jpg    \n",
            "  inflating: data/cats/cat.48.jpg    \n",
            "  inflating: data/cats/cat.49.jpg    \n",
            "  inflating: data/cats/cat.5.jpg     \n",
            "  inflating: data/cats/cat.50.jpg    \n",
            "  inflating: data/cats/cat.51.jpg    \n",
            "  inflating: data/cats/cat.52.jpg    \n",
            "  inflating: data/cats/cat.53.jpg    \n",
            "  inflating: data/cats/cat.54.jpg    \n",
            "  inflating: data/cats/cat.55.jpg    \n",
            "  inflating: data/cats/cat.56.jpg    \n",
            "  inflating: data/cats/cat.57.jpg    \n",
            "  inflating: data/cats/cat.58.jpg    \n",
            "  inflating: data/cats/cat.59.jpg    \n",
            "  inflating: data/cats/cat.6.jpg     \n",
            "  inflating: data/cats/cat.60.jpg    \n",
            "  inflating: data/cats/cat.61.jpg    \n",
            "  inflating: data/cats/cat.62.jpg    \n",
            "  inflating: data/cats/cat.63.jpg    \n",
            "  inflating: data/cats/cat.64.jpg    \n",
            "  inflating: data/cats/cat.65.jpg    \n",
            "  inflating: data/cats/cat.66.jpg    \n",
            "  inflating: data/cats/cat.67.jpg    \n",
            "  inflating: data/cats/cat.68.jpg    \n",
            "  inflating: data/cats/cat.69.jpg    \n",
            "  inflating: data/cats/cat.7.jpg     \n",
            "  inflating: data/cats/cat.70.jpg    \n",
            "  inflating: data/cats/cat.71.jpg    \n",
            "  inflating: data/cats/cat.72.jpg    \n",
            "  inflating: data/cats/cat.73.jpg    \n",
            "  inflating: data/cats/cat.74.jpg    \n",
            "  inflating: data/cats/cat.75.jpg    \n",
            "  inflating: data/cats/cat.76.jpg    \n",
            "  inflating: data/cats/cat.77.jpg    \n",
            "  inflating: data/cats/cat.78.jpg    \n",
            "  inflating: data/cats/cat.79.jpg    \n",
            "  inflating: data/cats/cat.8.jpg     \n",
            "  inflating: data/cats/cat.80.jpg    \n",
            "  inflating: data/cats/cat.81.jpg    \n",
            "  inflating: data/cats/cat.82.jpg    \n",
            "  inflating: data/cats/cat.83.jpg    \n",
            "  inflating: data/cats/cat.84.jpg    \n",
            "  inflating: data/cats/cat.85.jpg    \n",
            "  inflating: data/cats/cat.86.jpg    \n",
            "  inflating: data/cats/cat.87.jpg    \n",
            "  inflating: data/cats/cat.88.jpg    \n",
            "  inflating: data/cats/cat.89.jpg    \n",
            "  inflating: data/cats/cat.9.jpg     \n",
            "  inflating: data/cats/cat.90.jpg    \n",
            "  inflating: data/cats/cat.91.jpg    \n",
            "  inflating: data/cats/cat.92.jpg    \n",
            "  inflating: data/cats/cat.93.jpg    \n",
            "  inflating: data/cats/cat.94.jpg    \n",
            "  inflating: data/cats/cat.95.jpg    \n",
            "  inflating: data/cats/cat.96.jpg    \n",
            "  inflating: data/cats/cat.97.jpg    \n",
            "  inflating: data/cats/cat.98.jpg    \n",
            "  inflating: data/cats/cat.99.jpg    \n",
            "   creating: data/dogs/\n",
            "  inflating: data/dogs/dog.1.jpg     \n",
            "  inflating: data/dogs/dog.10.jpg    \n",
            "  inflating: data/dogs/dog.100.jpg   \n",
            "  inflating: data/dogs/dog.101.jpg   \n",
            "  inflating: data/dogs/dog.102.jpg   \n",
            "  inflating: data/dogs/dog.103.jpg   \n",
            "  inflating: data/dogs/dog.104.jpg   \n",
            "  inflating: data/dogs/dog.105.jpg   \n",
            "  inflating: data/dogs/dog.106.jpg   \n",
            "  inflating: data/dogs/dog.107.jpg   \n",
            "  inflating: data/dogs/dog.108.jpg   \n",
            "  inflating: data/dogs/dog.109.jpg   \n",
            "  inflating: data/dogs/dog.11.jpg    \n",
            "  inflating: data/dogs/dog.110.jpg   \n",
            "  inflating: data/dogs/dog.111.jpg   \n",
            "  inflating: data/dogs/dog.112.jpg   \n",
            "  inflating: data/dogs/dog.113.jpg   \n",
            "  inflating: data/dogs/dog.114.jpg   \n",
            "  inflating: data/dogs/dog.115.jpg   \n",
            "  inflating: data/dogs/dog.116.jpg   \n",
            "  inflating: data/dogs/dog.117.jpg   \n",
            "  inflating: data/dogs/dog.118.jpg   \n",
            "  inflating: data/dogs/dog.119.jpg   \n",
            "  inflating: data/dogs/dog.12.jpg    \n",
            "  inflating: data/dogs/dog.120.jpg   \n",
            "  inflating: data/dogs/dog.121.jpg   \n",
            "  inflating: data/dogs/dog.122.jpg   \n",
            "  inflating: data/dogs/dog.123.jpg   \n",
            "  inflating: data/dogs/dog.124.jpg   \n",
            "  inflating: data/dogs/dog.125.jpg   \n",
            "  inflating: data/dogs/dog.126.jpg   \n",
            "  inflating: data/dogs/dog.127.jpg   \n",
            "  inflating: data/dogs/dog.128.jpg   \n",
            "  inflating: data/dogs/dog.129.jpg   \n",
            "  inflating: data/dogs/dog.13.jpg    \n",
            "  inflating: data/dogs/dog.130.jpg   \n",
            "  inflating: data/dogs/dog.131.jpg   \n",
            "  inflating: data/dogs/dog.132.jpg   \n",
            "  inflating: data/dogs/dog.133.jpg   \n",
            "  inflating: data/dogs/dog.134.jpg   \n",
            "  inflating: data/dogs/dog.135.jpg   \n",
            "  inflating: data/dogs/dog.136.jpg   \n",
            "  inflating: data/dogs/dog.137.jpg   \n",
            "  inflating: data/dogs/dog.138.jpg   \n",
            "  inflating: data/dogs/dog.139.jpg   \n",
            "  inflating: data/dogs/dog.14.jpg    \n",
            "  inflating: data/dogs/dog.140.jpg   \n",
            "  inflating: data/dogs/dog.141.jpg   \n",
            "  inflating: data/dogs/dog.142.jpg   \n",
            "  inflating: data/dogs/dog.143.jpg   \n",
            "  inflating: data/dogs/dog.144.jpg   \n",
            "  inflating: data/dogs/dog.145.jpg   \n",
            "  inflating: data/dogs/dog.146.jpg   \n",
            "  inflating: data/dogs/dog.147.jpg   \n",
            "  inflating: data/dogs/dog.148.jpg   \n",
            "  inflating: data/dogs/dog.149.jpg   \n",
            "  inflating: data/dogs/dog.15.jpg    \n",
            "  inflating: data/dogs/dog.150.jpg   \n",
            "  inflating: data/dogs/dog.151.jpg   \n",
            "  inflating: data/dogs/dog.152.jpg   \n",
            "  inflating: data/dogs/dog.153.jpg   \n",
            "  inflating: data/dogs/dog.154.jpg   \n",
            "  inflating: data/dogs/dog.155.jpg   \n",
            "  inflating: data/dogs/dog.156.jpg   \n",
            "  inflating: data/dogs/dog.157.jpg   \n",
            "  inflating: data/dogs/dog.158.jpg   \n",
            "  inflating: data/dogs/dog.159.jpg   \n",
            "  inflating: data/dogs/dog.16.jpg    \n",
            "  inflating: data/dogs/dog.160.jpg   \n",
            "  inflating: data/dogs/dog.161.jpg   \n",
            "  inflating: data/dogs/dog.162.jpg   \n",
            "  inflating: data/dogs/dog.163.jpg   \n",
            "  inflating: data/dogs/dog.164.jpg   \n",
            "  inflating: data/dogs/dog.165.jpg   \n",
            "  inflating: data/dogs/dog.166.jpg   \n",
            "  inflating: data/dogs/dog.167.jpg   \n",
            "  inflating: data/dogs/dog.168.jpg   \n",
            "  inflating: data/dogs/dog.169.jpg   \n",
            "  inflating: data/dogs/dog.17.jpg    \n",
            "  inflating: data/dogs/dog.170.jpg   \n",
            "  inflating: data/dogs/dog.171.jpg   \n",
            "  inflating: data/dogs/dog.172.jpg   \n",
            "  inflating: data/dogs/dog.173.jpg   \n",
            "  inflating: data/dogs/dog.174.jpg   \n",
            "  inflating: data/dogs/dog.175.jpg   \n",
            "  inflating: data/dogs/dog.176.jpg   \n",
            "  inflating: data/dogs/dog.177.jpg   \n",
            "  inflating: data/dogs/dog.178.jpg   \n",
            "  inflating: data/dogs/dog.179.jpg   \n",
            "  inflating: data/dogs/dog.18.jpg    \n",
            "  inflating: data/dogs/dog.180.jpg   \n",
            "  inflating: data/dogs/dog.181.jpg   \n",
            "  inflating: data/dogs/dog.182.jpg   \n",
            "  inflating: data/dogs/dog.183.jpg   \n",
            "  inflating: data/dogs/dog.184.jpg   \n",
            "  inflating: data/dogs/dog.185.jpg   \n",
            "  inflating: data/dogs/dog.186.jpg   \n",
            "  inflating: data/dogs/dog.187.jpg   \n",
            "  inflating: data/dogs/dog.188.jpg   \n",
            "  inflating: data/dogs/dog.189.jpg   \n",
            "  inflating: data/dogs/dog.19.jpg    \n",
            "  inflating: data/dogs/dog.190.jpg   \n",
            "  inflating: data/dogs/dog.191.jpg   \n",
            "  inflating: data/dogs/dog.192.jpg   \n",
            "  inflating: data/dogs/dog.193.jpg   \n",
            "  inflating: data/dogs/dog.194.jpg   \n",
            "  inflating: data/dogs/dog.195.jpg   \n",
            "  inflating: data/dogs/dog.196.jpg   \n",
            "  inflating: data/dogs/dog.197.jpg   \n",
            "  inflating: data/dogs/dog.198.jpg   \n",
            "  inflating: data/dogs/dog.199.jpg   \n",
            "  inflating: data/dogs/dog.2.jpg     \n",
            "  inflating: data/dogs/dog.20.jpg    \n",
            "  inflating: data/dogs/dog.200.jpg   \n",
            "  inflating: data/dogs/dog.201.jpg   \n",
            "  inflating: data/dogs/dog.202.jpg   \n",
            "  inflating: data/dogs/dog.21.jpg    \n",
            "  inflating: data/dogs/dog.22.jpg    \n",
            "  inflating: data/dogs/dog.23.jpg    \n",
            "  inflating: data/dogs/dog.24.jpg    \n",
            "  inflating: data/dogs/dog.25.jpg    \n",
            "  inflating: data/dogs/dog.26.jpg    \n",
            "  inflating: data/dogs/dog.27.jpg    \n",
            "  inflating: data/dogs/dog.28.jpg    \n",
            "  inflating: data/dogs/dog.29.jpg    \n",
            "  inflating: data/dogs/dog.3.jpg     \n",
            "  inflating: data/dogs/dog.30.jpg    \n",
            "  inflating: data/dogs/dog.31.jpg    \n",
            "  inflating: data/dogs/dog.32.jpg    \n",
            "  inflating: data/dogs/dog.33.jpg    \n",
            "  inflating: data/dogs/dog.34.jpg    \n",
            "  inflating: data/dogs/dog.35.jpg    \n",
            "  inflating: data/dogs/dog.36.jpg    \n",
            "  inflating: data/dogs/dog.37.jpg    \n",
            "  inflating: data/dogs/dog.38.jpg    \n",
            "  inflating: data/dogs/dog.39.jpg    \n",
            "  inflating: data/dogs/dog.4.jpg     \n",
            "  inflating: data/dogs/dog.40.jpg    \n",
            "  inflating: data/dogs/dog.41.jpg    \n",
            "  inflating: data/dogs/dog.42.jpg    \n",
            "  inflating: data/dogs/dog.43.jpg    \n",
            "  inflating: data/dogs/dog.44.jpg    \n",
            "  inflating: data/dogs/dog.45.jpg    \n",
            "  inflating: data/dogs/dog.46.jpg    \n",
            "  inflating: data/dogs/dog.47.jpg    \n",
            "  inflating: data/dogs/dog.48.jpg    \n",
            "  inflating: data/dogs/dog.49.jpg    \n",
            "  inflating: data/dogs/dog.5.jpg     \n",
            "  inflating: data/dogs/dog.50.jpg    \n",
            "  inflating: data/dogs/dog.51.jpg    \n",
            "  inflating: data/dogs/dog.52.jpg    \n",
            "  inflating: data/dogs/dog.53.jpg    \n",
            "  inflating: data/dogs/dog.54.jpg    \n",
            "  inflating: data/dogs/dog.55.jpg    \n",
            "  inflating: data/dogs/dog.56.jpg    \n",
            "  inflating: data/dogs/dog.57.jpg    \n",
            "  inflating: data/dogs/dog.58.jpg    \n",
            "  inflating: data/dogs/dog.59.jpg    \n",
            "  inflating: data/dogs/dog.6.jpg     \n",
            "  inflating: data/dogs/dog.60.jpg    \n",
            "  inflating: data/dogs/dog.61.jpg    \n",
            "  inflating: data/dogs/dog.62.jpg    \n",
            "  inflating: data/dogs/dog.63.jpg    \n",
            "  inflating: data/dogs/dog.64.jpg    \n",
            "  inflating: data/dogs/dog.65.jpg    \n",
            "  inflating: data/dogs/dog.66.jpg    \n",
            "  inflating: data/dogs/dog.67.jpg    \n",
            "  inflating: data/dogs/dog.68.jpg    \n",
            "  inflating: data/dogs/dog.69.jpg    \n",
            "  inflating: data/dogs/dog.7.jpg     \n",
            "  inflating: data/dogs/dog.70.jpg    \n",
            "  inflating: data/dogs/dog.71.jpg    \n",
            "  inflating: data/dogs/dog.72.jpg    \n",
            "  inflating: data/dogs/dog.73.jpg    \n",
            "  inflating: data/dogs/dog.74.jpg    \n",
            "  inflating: data/dogs/dog.75.jpg    \n",
            "  inflating: data/dogs/dog.76.jpg    \n",
            "  inflating: data/dogs/dog.77.jpg    \n",
            "  inflating: data/dogs/dog.78.jpg    \n",
            "  inflating: data/dogs/dog.79.jpg    \n",
            "  inflating: data/dogs/dog.8.jpg     \n",
            "  inflating: data/dogs/dog.80.jpg    \n",
            "  inflating: data/dogs/dog.81.jpg    \n",
            "  inflating: data/dogs/dog.82.jpg    \n",
            "  inflating: data/dogs/dog.83.jpg    \n",
            "  inflating: data/dogs/dog.84.jpg    \n",
            "  inflating: data/dogs/dog.85.jpg    \n",
            "  inflating: data/dogs/dog.86.jpg    \n",
            "  inflating: data/dogs/dog.87.jpg    \n",
            "  inflating: data/dogs/dog.88.jpg    \n",
            "  inflating: data/dogs/dog.89.jpg    \n",
            "  inflating: data/dogs/dog.9.jpg     \n",
            "  inflating: data/dogs/dog.90.jpg    \n",
            "  inflating: data/dogs/dog.91.jpg    \n",
            "  inflating: data/dogs/dog.92.jpg    \n",
            "  inflating: data/dogs/dog.93.jpg    \n",
            "  inflating: data/dogs/dog.94.jpg    \n",
            "  inflating: data/dogs/dog.95.jpg    \n",
            "  inflating: data/dogs/dog.96.jpg    \n",
            "  inflating: data/dogs/dog.97.jpg    \n",
            "  inflating: data/dogs/dog.98.jpg    \n",
            "  inflating: data/dogs/dog.99.jpg    \n",
            "   creating: data/horses/\n",
            "  inflating: data/horses/horse-1.jpg  \n",
            "  inflating: data/horses/horse-10.jpg  \n",
            "  inflating: data/horses/horse-100.jpg  \n",
            "  inflating: data/horses/horse-101.jpg  \n",
            "  inflating: data/horses/horse-102.jpg  \n",
            "  inflating: data/horses/horse-103.jpg  \n",
            "  inflating: data/horses/horse-104.jpg  \n",
            "  inflating: data/horses/horse-105.jpg  \n",
            "  inflating: data/horses/horse-106.jpg  \n",
            "  inflating: data/horses/horse-107.jpg  \n",
            "  inflating: data/horses/horse-108.jpg  \n",
            "  inflating: data/horses/horse-109.jpg  \n",
            "  inflating: data/horses/horse-11.jpg  \n",
            "  inflating: data/horses/horse-110.jpg  \n",
            "  inflating: data/horses/horse-111.jpg  \n",
            "  inflating: data/horses/horse-112.jpg  \n",
            "  inflating: data/horses/horse-113.jpg  \n",
            "  inflating: data/horses/horse-114.jpg  \n",
            "  inflating: data/horses/horse-115.jpg  \n",
            "  inflating: data/horses/horse-116.jpg  \n",
            "  inflating: data/horses/horse-117.jpg  \n",
            "  inflating: data/horses/horse-118.jpg  \n",
            "  inflating: data/horses/horse-119.jpg  \n",
            "  inflating: data/horses/horse-12.jpg  \n",
            "  inflating: data/horses/horse-120.jpg  \n",
            "  inflating: data/horses/horse-121.jpg  \n",
            "  inflating: data/horses/horse-122.jpg  \n",
            "  inflating: data/horses/horse-123.jpg  \n",
            "  inflating: data/horses/horse-124.jpg  \n",
            "  inflating: data/horses/horse-125.jpg  \n",
            "  inflating: data/horses/horse-126.jpg  \n",
            "  inflating: data/horses/horse-127.jpg  \n",
            "  inflating: data/horses/horse-128.jpg  \n",
            "  inflating: data/horses/horse-129.jpg  \n",
            "  inflating: data/horses/horse-13.jpg  \n",
            "  inflating: data/horses/horse-130.jpg  \n",
            "  inflating: data/horses/horse-131.jpg  \n",
            "  inflating: data/horses/horse-132.jpg  \n",
            "  inflating: data/horses/horse-133.jpg  \n",
            "  inflating: data/horses/horse-134.jpg  \n",
            "  inflating: data/horses/horse-135.jpg  \n",
            "  inflating: data/horses/horse-136.jpg  \n",
            "  inflating: data/horses/horse-137.jpg  \n",
            "  inflating: data/horses/horse-138.jpg  \n",
            "  inflating: data/horses/horse-139.jpg  \n",
            "  inflating: data/horses/horse-14.jpg  \n",
            "  inflating: data/horses/horse-140.jpg  \n",
            "  inflating: data/horses/horse-141.jpg  \n",
            "  inflating: data/horses/horse-142.jpg  \n",
            "  inflating: data/horses/horse-143.jpg  \n",
            "  inflating: data/horses/horse-144.jpg  \n",
            "  inflating: data/horses/horse-145.jpg  \n",
            "  inflating: data/horses/horse-146.jpg  \n",
            "  inflating: data/horses/horse-147.jpg  \n",
            "  inflating: data/horses/horse-148.jpg  \n",
            "  inflating: data/horses/horse-149.jpg  \n",
            "  inflating: data/horses/horse-15.jpg  \n",
            "  inflating: data/horses/horse-150.jpg  \n",
            "  inflating: data/horses/horse-151.jpg  \n",
            "  inflating: data/horses/horse-152.jpg  \n",
            "  inflating: data/horses/horse-153.jpg  \n",
            "  inflating: data/horses/horse-154.jpg  \n",
            "  inflating: data/horses/horse-155.jpg  \n",
            "  inflating: data/horses/horse-156.jpg  \n",
            "  inflating: data/horses/horse-157.jpg  \n",
            "  inflating: data/horses/horse-158.jpg  \n",
            "  inflating: data/horses/horse-159.jpg  \n",
            "  inflating: data/horses/horse-16.jpg  \n",
            "  inflating: data/horses/horse-160.jpg  \n",
            "  inflating: data/horses/horse-161.jpg  \n",
            "  inflating: data/horses/horse-162.jpg  \n",
            "  inflating: data/horses/horse-163.jpg  \n",
            "  inflating: data/horses/horse-164.jpg  \n",
            "  inflating: data/horses/horse-165.jpg  \n",
            "  inflating: data/horses/horse-166.jpg  \n",
            "  inflating: data/horses/horse-167.jpg  \n",
            "  inflating: data/horses/horse-168.jpg  \n",
            "  inflating: data/horses/horse-169.jpg  \n",
            "  inflating: data/horses/horse-17.jpg  \n",
            "  inflating: data/horses/horse-170.jpg  \n",
            "  inflating: data/horses/horse-171.jpg  \n",
            "  inflating: data/horses/horse-172.jpg  \n",
            "  inflating: data/horses/horse-173.jpg  \n",
            "  inflating: data/horses/horse-174.jpg  \n",
            "  inflating: data/horses/horse-175.jpg  \n",
            "  inflating: data/horses/horse-176.jpg  \n",
            "  inflating: data/horses/horse-177.jpg  \n",
            "  inflating: data/horses/horse-178.jpg  \n",
            "  inflating: data/horses/horse-179.jpg  \n",
            "  inflating: data/horses/horse-18.jpg  \n",
            "  inflating: data/horses/horse-180.jpg  \n",
            "  inflating: data/horses/horse-181.jpg  \n",
            "  inflating: data/horses/horse-182.jpg  \n",
            "  inflating: data/horses/horse-183.jpg  \n",
            "  inflating: data/horses/horse-184.jpg  \n",
            "  inflating: data/horses/horse-185.jpg  \n",
            "  inflating: data/horses/horse-186.jpg  \n",
            "  inflating: data/horses/horse-187.jpg  \n",
            "  inflating: data/horses/horse-188.jpg  \n",
            "  inflating: data/horses/horse-189.jpg  \n",
            "  inflating: data/horses/horse-19.jpg  \n",
            "  inflating: data/horses/horse-190.jpg  \n",
            "  inflating: data/horses/horse-191.jpg  \n",
            "  inflating: data/horses/horse-192.jpg  \n",
            "  inflating: data/horses/horse-193.jpg  \n",
            "  inflating: data/horses/horse-194.jpg  \n",
            "  inflating: data/horses/horse-195.jpg  \n",
            "  inflating: data/horses/horse-196.jpg  \n",
            "  inflating: data/horses/horse-197.jpg  \n",
            "  inflating: data/horses/horse-198.jpg  \n",
            "  inflating: data/horses/horse-199.jpg  \n",
            "  inflating: data/horses/horse-2.jpg  \n",
            "  inflating: data/horses/horse-20.jpg  \n",
            "  inflating: data/horses/horse-200.jpg  \n",
            "  inflating: data/horses/horse-201.jpg  \n",
            "  inflating: data/horses/horse-202.jpg  \n",
            "  inflating: data/horses/horse-21.jpg  \n",
            "  inflating: data/horses/horse-22.jpg  \n",
            "  inflating: data/horses/horse-23.jpg  \n",
            "  inflating: data/horses/horse-24.jpg  \n",
            "  inflating: data/horses/horse-25.jpg  \n",
            "  inflating: data/horses/horse-26.jpg  \n",
            "  inflating: data/horses/horse-27.jpg  \n",
            "  inflating: data/horses/horse-28.jpg  \n",
            "  inflating: data/horses/horse-29.jpg  \n",
            "  inflating: data/horses/horse-3.jpg  \n",
            "  inflating: data/horses/horse-30.jpg  \n",
            "  inflating: data/horses/horse-31.jpg  \n",
            "  inflating: data/horses/horse-32.jpg  \n",
            "  inflating: data/horses/horse-33.jpg  \n",
            "  inflating: data/horses/horse-34.jpg  \n",
            "  inflating: data/horses/horse-35.jpg  \n",
            "  inflating: data/horses/horse-36.jpg  \n",
            "  inflating: data/horses/horse-37.jpg  \n",
            "  inflating: data/horses/horse-38.jpg  \n",
            "  inflating: data/horses/horse-39.jpg  \n",
            "  inflating: data/horses/horse-4.jpg  \n",
            "  inflating: data/horses/horse-40.jpg  \n",
            "  inflating: data/horses/horse-41.jpg  \n",
            "  inflating: data/horses/horse-42.jpg  \n",
            "  inflating: data/horses/horse-43.jpg  \n",
            "  inflating: data/horses/horse-44.jpg  \n",
            "  inflating: data/horses/horse-45.jpg  \n",
            "  inflating: data/horses/horse-46.jpg  \n",
            "  inflating: data/horses/horse-47.jpg  \n",
            "  inflating: data/horses/horse-48.jpg  \n",
            "  inflating: data/horses/horse-49.jpg  \n",
            "  inflating: data/horses/horse-5.jpg  \n",
            "  inflating: data/horses/horse-50.jpg  \n",
            "  inflating: data/horses/horse-51.jpg  \n",
            "  inflating: data/horses/horse-52.jpg  \n",
            "  inflating: data/horses/horse-53.jpg  \n",
            "  inflating: data/horses/horse-54.jpg  \n",
            "  inflating: data/horses/horse-55.jpg  \n",
            "  inflating: data/horses/horse-56.jpg  \n",
            "  inflating: data/horses/horse-57.jpg  \n",
            "  inflating: data/horses/horse-58.jpg  \n",
            "  inflating: data/horses/horse-59.jpg  \n",
            "  inflating: data/horses/horse-6.jpg  \n",
            "  inflating: data/horses/horse-60.jpg  \n",
            "  inflating: data/horses/horse-61.jpg  \n",
            "  inflating: data/horses/horse-62.jpg  \n",
            "  inflating: data/horses/horse-63.jpg  \n",
            "  inflating: data/horses/horse-64.jpg  \n",
            "  inflating: data/horses/horse-65.jpg  \n",
            "  inflating: data/horses/horse-66.jpg  \n",
            "  inflating: data/horses/horse-67.jpg  \n",
            "  inflating: data/horses/horse-68.jpg  \n",
            "  inflating: data/horses/horse-69.jpg  \n",
            "  inflating: data/horses/horse-7.jpg  \n",
            "  inflating: data/horses/horse-70.jpg  \n",
            "  inflating: data/horses/horse-71.jpg  \n",
            "  inflating: data/horses/horse-72.jpg  \n",
            "  inflating: data/horses/horse-73.jpg  \n",
            "  inflating: data/horses/horse-74.jpg  \n",
            "  inflating: data/horses/horse-75.jpg  \n",
            "  inflating: data/horses/horse-76.jpg  \n",
            "  inflating: data/horses/horse-77.jpg  \n",
            "  inflating: data/horses/horse-78.jpg  \n",
            "  inflating: data/horses/horse-79.jpg  \n",
            "  inflating: data/horses/horse-8.jpg  \n",
            "  inflating: data/horses/horse-80.jpg  \n",
            "  inflating: data/horses/horse-81.jpg  \n",
            "  inflating: data/horses/horse-82.jpg  \n",
            "  inflating: data/horses/horse-83.jpg  \n",
            "  inflating: data/horses/horse-84.jpg  \n",
            "  inflating: data/horses/horse-85.jpg  \n",
            "  inflating: data/horses/horse-86.jpg  \n",
            "  inflating: data/horses/horse-87.jpg  \n",
            "  inflating: data/horses/horse-88.jpg  \n",
            "  inflating: data/horses/horse-89.jpg  \n",
            "  inflating: data/horses/horse-9.jpg  \n",
            "  inflating: data/horses/horse-90.jpg  \n",
            "  inflating: data/horses/horse-91.jpg  \n",
            "  inflating: data/horses/horse-92.jpg  \n",
            "  inflating: data/horses/horse-93.jpg  \n",
            "  inflating: data/horses/horse-94.jpg  \n",
            "  inflating: data/horses/horse-95.jpg  \n",
            "  inflating: data/horses/horse-96.jpg  \n",
            "  inflating: data/horses/horse-97.jpg  \n",
            "  inflating: data/horses/horse-98.jpg  \n",
            "  inflating: data/horses/horse-99.jpg  \n",
            "   creating: data/Humans/\n",
            "  inflating: data/Humans/rider-1.jpg  \n",
            "  inflating: data/Humans/rider-10.jpg  \n",
            "  inflating: data/Humans/rider-100.jpg  \n",
            "  inflating: data/Humans/rider-101.jpg  \n",
            "  inflating: data/Humans/rider-102.jpg  \n",
            "  inflating: data/Humans/rider-103.jpg  \n",
            "  inflating: data/Humans/rider-104.jpg  \n",
            "  inflating: data/Humans/rider-105.jpg  \n",
            "  inflating: data/Humans/rider-106.jpg  \n",
            "  inflating: data/Humans/rider-107.jpg  \n",
            "  inflating: data/Humans/rider-108.jpg  \n",
            "  inflating: data/Humans/rider-109.jpg  \n",
            "  inflating: data/Humans/rider-11.jpg  \n",
            "  inflating: data/Humans/rider-110.jpg  \n",
            "  inflating: data/Humans/rider-111.jpg  \n",
            "  inflating: data/Humans/rider-112.jpg  \n",
            "  inflating: data/Humans/rider-113.jpg  \n",
            "  inflating: data/Humans/rider-114.jpg  \n",
            "  inflating: data/Humans/rider-115.jpg  \n",
            "  inflating: data/Humans/rider-116.jpg  \n",
            "  inflating: data/Humans/rider-117.jpg  \n",
            "  inflating: data/Humans/rider-118.jpg  \n",
            "  inflating: data/Humans/rider-119.jpg  \n",
            "  inflating: data/Humans/rider-12.jpg  \n",
            "  inflating: data/Humans/rider-120.jpg  \n",
            "  inflating: data/Humans/rider-121.jpg  \n",
            "  inflating: data/Humans/rider-122.jpg  \n",
            "  inflating: data/Humans/rider-123.jpg  \n",
            "  inflating: data/Humans/rider-124.jpg  \n",
            "  inflating: data/Humans/rider-125.jpg  \n",
            "  inflating: data/Humans/rider-126.jpg  \n",
            "  inflating: data/Humans/rider-127.jpg  \n",
            "  inflating: data/Humans/rider-128.jpg  \n",
            "  inflating: data/Humans/rider-129.jpg  \n",
            "  inflating: data/Humans/rider-13.jpg  \n",
            "  inflating: data/Humans/rider-130.jpg  \n",
            "  inflating: data/Humans/rider-131.jpg  \n",
            "  inflating: data/Humans/rider-132.jpg  \n",
            "  inflating: data/Humans/rider-133.jpg  \n",
            "  inflating: data/Humans/rider-134.jpg  \n",
            "  inflating: data/Humans/rider-135.jpg  \n",
            "  inflating: data/Humans/rider-136.jpg  \n",
            "  inflating: data/Humans/rider-137.jpg  \n",
            "  inflating: data/Humans/rider-138.jpg  \n",
            "  inflating: data/Humans/rider-139.jpg  \n",
            "  inflating: data/Humans/rider-14.jpg  \n",
            "  inflating: data/Humans/rider-140.jpg  \n",
            "  inflating: data/Humans/rider-141.jpg  \n",
            "  inflating: data/Humans/rider-142.jpg  \n",
            "  inflating: data/Humans/rider-143.jpg  \n",
            "  inflating: data/Humans/rider-144.jpg  \n",
            "  inflating: data/Humans/rider-145.jpg  \n",
            "  inflating: data/Humans/rider-146.jpg  \n",
            "  inflating: data/Humans/rider-147.jpg  \n",
            "  inflating: data/Humans/rider-148.jpg  \n",
            "  inflating: data/Humans/rider-149.jpg  \n",
            "  inflating: data/Humans/rider-15.jpg  \n",
            "  inflating: data/Humans/rider-150.jpg  \n",
            "  inflating: data/Humans/rider-151.jpg  \n",
            "  inflating: data/Humans/rider-152.jpg  \n",
            "  inflating: data/Humans/rider-153.jpg  \n",
            "  inflating: data/Humans/rider-154.jpg  \n",
            "  inflating: data/Humans/rider-155.jpg  \n",
            "  inflating: data/Humans/rider-156.jpg  \n",
            "  inflating: data/Humans/rider-157.jpg  \n",
            "  inflating: data/Humans/rider-158.jpg  \n",
            "  inflating: data/Humans/rider-159.jpg  \n",
            "  inflating: data/Humans/rider-16.jpg  \n",
            "  inflating: data/Humans/rider-160.jpg  \n",
            "  inflating: data/Humans/rider-161.jpg  \n",
            "  inflating: data/Humans/rider-162.jpg  \n",
            "  inflating: data/Humans/rider-163.jpg  \n",
            "  inflating: data/Humans/rider-164.jpg  \n",
            "  inflating: data/Humans/rider-165.jpg  \n",
            "  inflating: data/Humans/rider-166.jpg  \n",
            "  inflating: data/Humans/rider-167.jpg  \n",
            "  inflating: data/Humans/rider-168.jpg  \n",
            "  inflating: data/Humans/rider-169.jpg  \n",
            "  inflating: data/Humans/rider-17.jpg  \n",
            "  inflating: data/Humans/rider-170.jpg  \n",
            "  inflating: data/Humans/rider-171.jpg  \n",
            "  inflating: data/Humans/rider-172.jpg  \n",
            "  inflating: data/Humans/rider-173.jpg  \n",
            "  inflating: data/Humans/rider-174.jpg  \n",
            "  inflating: data/Humans/rider-175.jpg  \n",
            "  inflating: data/Humans/rider-176.jpg  \n",
            "  inflating: data/Humans/rider-177.jpg  \n",
            "  inflating: data/Humans/rider-178.jpg  \n",
            "  inflating: data/Humans/rider-179.jpg  \n",
            "  inflating: data/Humans/rider-18.jpg  \n",
            "  inflating: data/Humans/rider-180.jpg  \n",
            "  inflating: data/Humans/rider-181.jpg  \n",
            "  inflating: data/Humans/rider-182.jpg  \n",
            "  inflating: data/Humans/rider-183.jpg  \n",
            "  inflating: data/Humans/rider-184.jpg  \n",
            "  inflating: data/Humans/rider-185.jpg  \n",
            "  inflating: data/Humans/rider-186.jpg  \n",
            "  inflating: data/Humans/rider-187.jpg  \n",
            "  inflating: data/Humans/rider-188.jpg  \n",
            "  inflating: data/Humans/rider-189.jpg  \n",
            "  inflating: data/Humans/rider-19.jpg  \n",
            "  inflating: data/Humans/rider-190.jpg  \n",
            "  inflating: data/Humans/rider-191.jpg  \n",
            "  inflating: data/Humans/rider-192.jpg  \n",
            "  inflating: data/Humans/rider-193.jpg  \n",
            "  inflating: data/Humans/rider-194.jpg  \n",
            "  inflating: data/Humans/rider-195.jpg  \n",
            "  inflating: data/Humans/rider-196.jpg  \n",
            "  inflating: data/Humans/rider-197.jpg  \n",
            "  inflating: data/Humans/rider-198.jpg  \n",
            "  inflating: data/Humans/rider-199.jpg  \n",
            "  inflating: data/Humans/rider-2.jpg  \n",
            "  inflating: data/Humans/rider-20.jpg  \n",
            "  inflating: data/Humans/rider-200.jpg  \n",
            "  inflating: data/Humans/rider-201.jpg  \n",
            "  inflating: data/Humans/rider-202.jpg  \n",
            "  inflating: data/Humans/rider-21.jpg  \n",
            "  inflating: data/Humans/rider-22.jpg  \n",
            "  inflating: data/Humans/rider-23.jpg  \n",
            "  inflating: data/Humans/rider-24.jpg  \n",
            "  inflating: data/Humans/rider-25.jpg  \n",
            "  inflating: data/Humans/rider-26.jpg  \n",
            "  inflating: data/Humans/rider-27.jpg  \n",
            "  inflating: data/Humans/rider-28.jpg  \n",
            "  inflating: data/Humans/rider-29.jpg  \n",
            "  inflating: data/Humans/rider-3.jpg  \n",
            "  inflating: data/Humans/rider-30.jpg  \n",
            "  inflating: data/Humans/rider-31.jpg  \n",
            "  inflating: data/Humans/rider-32.jpg  \n",
            "  inflating: data/Humans/rider-33.jpg  \n",
            "  inflating: data/Humans/rider-34.jpg  \n",
            "  inflating: data/Humans/rider-35.jpg  \n",
            "  inflating: data/Humans/rider-36.jpg  \n",
            "  inflating: data/Humans/rider-37.jpg  \n",
            "  inflating: data/Humans/rider-38.jpg  \n",
            "  inflating: data/Humans/rider-39.jpg  \n",
            "  inflating: data/Humans/rider-4.jpg  \n",
            "  inflating: data/Humans/rider-40.jpg  \n",
            "  inflating: data/Humans/rider-41.jpg  \n",
            "  inflating: data/Humans/rider-42.jpg  \n",
            "  inflating: data/Humans/rider-43.jpg  \n",
            "  inflating: data/Humans/rider-44.jpg  \n",
            "  inflating: data/Humans/rider-45.jpg  \n",
            "  inflating: data/Humans/rider-46.jpg  \n",
            "  inflating: data/Humans/rider-47.jpg  \n",
            "  inflating: data/Humans/rider-48.jpg  \n",
            "  inflating: data/Humans/rider-49.jpg  \n",
            "  inflating: data/Humans/rider-5.jpg  \n",
            "  inflating: data/Humans/rider-50.jpg  \n",
            "  inflating: data/Humans/rider-51.jpg  \n",
            "  inflating: data/Humans/rider-52.jpg  \n",
            "  inflating: data/Humans/rider-53.jpg  \n",
            "  inflating: data/Humans/rider-54.jpg  \n",
            "  inflating: data/Humans/rider-55.jpg  \n",
            "  inflating: data/Humans/rider-56.jpg  \n",
            "  inflating: data/Humans/rider-57.jpg  \n",
            "  inflating: data/Humans/rider-58.jpg  \n",
            "  inflating: data/Humans/rider-59.jpg  \n",
            "  inflating: data/Humans/rider-6.jpg  \n",
            "  inflating: data/Humans/rider-60.jpg  \n",
            "  inflating: data/Humans/rider-61.jpg  \n",
            "  inflating: data/Humans/rider-62.jpg  \n",
            "  inflating: data/Humans/rider-63.jpg  \n",
            "  inflating: data/Humans/rider-64.jpg  \n",
            "  inflating: data/Humans/rider-65.jpg  \n",
            "  inflating: data/Humans/rider-66.jpg  \n",
            "  inflating: data/Humans/rider-67.jpg  \n",
            "  inflating: data/Humans/rider-68.jpg  \n",
            "  inflating: data/Humans/rider-69.jpg  \n",
            "  inflating: data/Humans/rider-7.jpg  \n",
            "  inflating: data/Humans/rider-70.jpg  \n",
            "  inflating: data/Humans/rider-71.jpg  \n",
            "  inflating: data/Humans/rider-72.jpg  \n",
            "  inflating: data/Humans/rider-73.jpg  \n",
            "  inflating: data/Humans/rider-74.jpg  \n",
            "  inflating: data/Humans/rider-75.jpg  \n",
            "  inflating: data/Humans/rider-76.jpg  \n",
            "  inflating: data/Humans/rider-77.jpg  \n",
            "  inflating: data/Humans/rider-78.jpg  \n",
            "  inflating: data/Humans/rider-79.jpg  \n",
            "  inflating: data/Humans/rider-8.jpg  \n",
            "  inflating: data/Humans/rider-80.jpg  \n",
            "  inflating: data/Humans/rider-81.jpg  \n",
            "  inflating: data/Humans/rider-82.jpg  \n",
            "  inflating: data/Humans/rider-83.jpg  \n",
            "  inflating: data/Humans/rider-84.jpg  \n",
            "  inflating: data/Humans/rider-85.jpg  \n",
            "  inflating: data/Humans/rider-86.jpg  \n",
            "  inflating: data/Humans/rider-87.jpg  \n",
            "  inflating: data/Humans/rider-88.jpg  \n",
            "  inflating: data/Humans/rider-89.jpg  \n",
            "  inflating: data/Humans/rider-9.jpg  \n",
            "  inflating: data/Humans/rider-90.jpg  \n",
            "  inflating: data/Humans/rider-91.jpg  \n",
            "  inflating: data/Humans/rider-92.jpg  \n",
            "  inflating: data/Humans/rider-93.jpg  \n",
            "  inflating: data/Humans/rider-94.jpg  \n",
            "  inflating: data/Humans/rider-95.jpg  \n",
            "  inflating: data/Humans/rider-96.jpg  \n",
            "  inflating: data/Humans/rider-97.jpg  \n",
            "  inflating: data/Humans/rider-98.jpg  \n",
            "  inflating: data/Humans/rider-99.jpg  \n"
          ],
          "name": "stdout"
        }
      ]
    },
    {
      "cell_type": "code",
      "metadata": {
        "id": "8aNPDl9Q80Wu"
      },
      "source": [
        "# Unzip training data\n",
        "#from zipfile import ZipFile\n",
        "#file_name = \"data\"\n",
        "#with ZipFile(file_name, 'r') as zip:\n",
        "#  zip.extractall()\n",
        "#  print('done')"
      ],
      "execution_count": null,
      "outputs": []
    },
    {
      "cell_type": "code",
      "metadata": {
        "id": "5IjjNPScYpvm"
      },
      "source": [
        "import os\n",
        "# Get all the paths\n",
        "data_dir_list = os.listdir('/content/data')\n",
        "#print(data_dir_list)"
      ],
      "execution_count": null,
      "outputs": []
    },
    {
      "cell_type": "code",
      "metadata": {
        "id": "WfiMdx8B_BLc",
        "colab": {
          "base_uri": "https://localhost:8080/"
        },
        "outputId": "06d39f45-2efb-48a8-f721-4d62aed31a72"
      },
      "source": [
        "data_dir_list"
      ],
      "execution_count": null,
      "outputs": [
        {
          "output_type": "execute_result",
          "data": {
            "text/plain": [
              "['cats', 'Humans', 'dogs', 'horses']"
            ]
          },
          "metadata": {
            "tags": []
          },
          "execution_count": 4
        }
      ]
    },
    {
      "cell_type": "code",
      "metadata": {
        "id": "eFA9UtCVGzHF"
      },
      "source": [
        "#for index, file in enumerate(files):\n",
        "#    os.rename(os.path.join(path, file), os.path.join(path, ''.join(['riders-' + str(index), '.jpg'])))"
      ],
      "execution_count": null,
      "outputs": []
    },
    {
      "cell_type": "code",
      "metadata": {
        "id": "JbFFPvWF_BlL"
      },
      "source": [
        "path, dirs, files = next(os.walk(\"/content/data\"))\n"
      ],
      "execution_count": null,
      "outputs": []
    },
    {
      "cell_type": "code",
      "metadata": {
        "id": "wKmwpVE8BCVu"
      },
      "source": [
        "data_paths = [os.path.join(path, f) \n",
        "    for path, dirs, files in os.walk(\"/content/data\") for f in files]"
      ],
      "execution_count": null,
      "outputs": []
    },
    {
      "cell_type": "code",
      "metadata": {
        "id": "vdkTlxEhChNt",
        "colab": {
          "base_uri": "https://localhost:8080/"
        },
        "outputId": "600b9a96-422d-4e66-f20e-022c0cce2e3f"
      },
      "source": [
        "file_count = len(data_paths)\n",
        "print(file_count)"
      ],
      "execution_count": null,
      "outputs": [
        {
          "output_type": "stream",
          "text": [
            "808\n"
          ],
          "name": "stdout"
        }
      ]
    },
    {
      "cell_type": "code",
      "metadata": {
        "id": "kfkQAusCBy8O"
      },
      "source": [
        "# Make new base directory\n",
        "original_dataset_dir = '/content/data'\n",
        "base_dir = '/content/animals'\n",
        "os.mkdir(base_dir)"
      ],
      "execution_count": null,
      "outputs": []
    },
    {
      "cell_type": "code",
      "metadata": {
        "id": "vXDoSMSBY08a"
      },
      "source": [
        "train_dir = os.path.join(base_dir, 'train')\n",
        "os.mkdir(train_dir)\n",
        "\n",
        "validation_dir = os.path.join(base_dir, 'validation')\n",
        "os.mkdir(validation_dir)\n",
        "\n",
        "test_dir = os.path.join(base_dir, 'test')\n",
        "os.mkdir(test_dir)"
      ],
      "execution_count": null,
      "outputs": []
    },
    {
      "cell_type": "code",
      "metadata": {
        "id": "OlkxWfEaS3fH",
        "colab": {
          "base_uri": "https://localhost:8080/",
          "height": 35
        },
        "outputId": "46cbf0a2-b7bc-4e0a-8285-5d16202d8b54"
      },
      "source": [
        "validation_dir"
      ],
      "execution_count": null,
      "outputs": [
        {
          "output_type": "execute_result",
          "data": {
            "application/vnd.google.colaboratory.intrinsic+json": {
              "type": "string"
            },
            "text/plain": [
              "'/content/animals/validation'"
            ]
          },
          "metadata": {
            "tags": []
          },
          "execution_count": 11
        }
      ]
    },
    {
      "cell_type": "code",
      "metadata": {
        "id": "b0pBLikxKjZz",
        "colab": {
          "base_uri": "https://localhost:8080/"
        },
        "outputId": "98ee6ee6-953f-4169-adb7-ab9144306262"
      },
      "source": [
        "print(808/4)\n",
        "print(202*0.5)\n",
        "print(101/2)"
      ],
      "execution_count": null,
      "outputs": [
        {
          "output_type": "stream",
          "text": [
            "202.0\n",
            "101.0\n",
            "50.5\n"
          ],
          "name": "stdout"
        }
      ]
    },
    {
      "cell_type": "code",
      "metadata": {
        "id": "5SPtaZApPR93"
      },
      "source": [
        "#for i in range(1, 102):\n",
        " #   print(i)"
      ],
      "execution_count": null,
      "outputs": []
    },
    {
      "cell_type": "code",
      "metadata": {
        "id": "__ivJGleY72P"
      },
      "source": [
        "import shutil\n",
        "import math\n",
        "fnames = ['rider-{}.jpg'.format(i) for i in range(1, 102)]\n",
        "for fname in fnames:\n",
        "    src = os.path.join(\"/content/data/Humans\", fname)\n",
        "    dst = os.path.join(train_dir, fname)\n",
        "    #print(src,dst)\n",
        "    shutil.copyfile(src, dst)\n",
        "    \n",
        "fnames = ['rider-{}.jpg'.format(i) for i in range(102, 153)]\n",
        "for fname in fnames:\n",
        "    src = os.path.join(\"/content/data/Humans\", fname)\n",
        "    dst = os.path.join(validation_dir, fname)\n",
        "    shutil.copyfile(src, dst)\n",
        "\n",
        "fnames = ['rider-{}.jpg'.format(i) for i in range(153, 203)]\n",
        "for fname in fnames:\n",
        "    src = os.path.join(\"/content/data/Humans\", fname)\n",
        "    dst = os.path.join(test_dir, fname)\n",
        "    shutil.copyfile(src, dst)\n",
        "\n",
        "fnames = ['cat.{}.jpg'.format(i) for i in range(1, 102)]\n",
        "for fname in fnames:\n",
        "    src = os.path.join(\"/content/data/cats\", fname)\n",
        "    dst = os.path.join(train_dir, fname)\n",
        "    #print(src,dst)\n",
        "    shutil.copyfile(src, dst)\n",
        "    \n",
        "fnames = ['cat.{}.jpg'.format(i) for i in range(102, 153)]\n",
        "for fname in fnames:\n",
        "    src = os.path.join(\"/content/data/cats\", fname)\n",
        "    dst = os.path.join(validation_dir, fname)\n",
        "    shutil.copyfile(src, dst)\n",
        "\n",
        "fnames = ['cat.{}.jpg'.format(i) for i in range(153, 203)]\n",
        "for fname in fnames:\n",
        "    src = os.path.join(\"/content/data/cats\", fname)\n",
        "    dst = os.path.join(test_dir, fname)\n",
        "    shutil.copyfile(src, dst)\n",
        "    \n",
        "fnames = ['dog.{}.jpg'.format(i) for i in range(1, 102)]\n",
        "for fname in fnames:\n",
        "    src = os.path.join(\"/content/data/dogs\", fname)\n",
        "    dst = os.path.join(train_dir, fname)\n",
        "    shutil.copyfile(src, dst)\n",
        "\n",
        "fnames = ['dog.{}.jpg'.format(i) for i in range(102, 153)]\n",
        "for fname in fnames:\n",
        "    src = os.path.join(\"/content/data/dogs\", fname)\n",
        "    dst = os.path.join(validation_dir, fname)\n",
        "    shutil.copyfile(src, dst)\n",
        "\n",
        "fnames = ['dog.{}.jpg'.format(i) for i in range(153, 203)]\n",
        "for fname in fnames:\n",
        "    src = os.path.join(\"/content/data/dogs\", fname)\n",
        "    dst = os.path.join(test_dir, fname)\n",
        "    shutil.copyfile(src, dst)\n",
        "\n",
        "fnames = ['horse-{}.jpg'.format(i) for i in range(1, 102)]\n",
        "for fname in fnames:\n",
        "    src = os.path.join(\"/content/data/horses\", fname)\n",
        "    dst = os.path.join(train_dir, fname)\n",
        "    shutil.copyfile(src, dst)\n",
        "\n",
        "fnames = ['horse-{}.jpg'.format(i) for i in range(102, 153)]\n",
        "for fname in fnames:\n",
        "    src = os.path.join(\"/content/data/horses\", fname)\n",
        "    dst = os.path.join(validation_dir, fname)\n",
        "    shutil.copyfile(src, dst)\n",
        "\n",
        "fnames = ['horse-{}.jpg'.format(i) for i in range(153, 203)]\n",
        "for fname in fnames:\n",
        "    src = os.path.join(\"/content/data/horses\", fname)\n",
        "    dst = os.path.join(test_dir, fname)\n",
        "    shutil.copyfile(src, dst)"
      ],
      "execution_count": null,
      "outputs": []
    },
    {
      "cell_type": "code",
      "metadata": {
        "id": "CmggYVP9ZB3b"
      },
      "source": [
        "import cv2\n",
        "import numpy as np\n",
        "from random import shuffle\n",
        "\n",
        "IMG_SIZE = 224\n",
        "LR = 1e-4"
      ],
      "execution_count": null,
      "outputs": []
    },
    {
      "cell_type": "code",
      "metadata": {
        "id": "SxrfByB9ZJpH"
      },
      "source": [
        "def label_img(img):\n",
        "    word_label = img.split('.')[0]\n",
        "    word_label1 = img.split('-')[0]\n",
        "    if word_label == 'dog': return [1, 0, 0, 0]\n",
        "    elif word_label == 'cat': return [0, 1, 0, 0]\n",
        "    elif word_label1 == 'horse': return [0, 0, 1, 0]\n",
        "    elif word_label1 == 'rider': return [0, 0, 0, 1]"
      ],
      "execution_count": null,
      "outputs": []
    },
    {
      "cell_type": "code",
      "metadata": {
        "id": "Z8CJI3CEV084"
      },
      "source": [
        ""
      ],
      "execution_count": null,
      "outputs": []
    },
    {
      "cell_type": "code",
      "metadata": {
        "id": "ZtbOJvcHGw9v"
      },
      "source": [
        "#from sklearn.preprocessing import OneHotEncoder\n",
        "#label_encoder = LabelEncoder()\n",
        "#integer_encoded = label_encoder.fit_transform(y_train)"
      ],
      "execution_count": null,
      "outputs": []
    },
    {
      "cell_type": "code",
      "metadata": {
        "id": "_8Gr22u-ZRcX"
      },
      "source": [
        "def createDataSplitSet(datapath):\n",
        "    X=[]\n",
        "    y=[]\n",
        "\n",
        "    for img in os.listdir(datapath):\n",
        "        label = label_img(img)\n",
        "        # print(label)\n",
        "        path = os.path.join(datapath, img)\n",
        "        image = cv2.resize(cv2.imread(path), (IMG_SIZE, IMG_SIZE))\n",
        "        image = cv2.normalize(image, None, alpha=0, beta=1, norm_type=cv2.NORM_MINMAX, dtype=cv2.CV_32F)\n",
        "\n",
        "        X.append(np.array(image))\n",
        "        y.append(label)\n",
        "\n",
        "    return np.array(X), np.array(y)"
      ],
      "execution_count": null,
      "outputs": []
    },
    {
      "cell_type": "code",
      "metadata": {
        "id": "Sk6Y5bMqZWBS"
      },
      "source": [
        "train_X, train_y = createDataSplitSet(train_dir)\n",
        "val_X, val_y = createDataSplitSet(validation_dir)\n",
        "test_X, test_y = createDataSplitSet(test_dir)"
      ],
      "execution_count": null,
      "outputs": []
    },
    {
      "cell_type": "code",
      "metadata": {
        "colab": {
          "base_uri": "https://localhost:8080/"
        },
        "id": "T9skPxV189ur",
        "outputId": "0c500311-d09d-4852-8cae-58a8f1277c97"
      },
      "source": [
        "print(train_X.shape)\n",
        "print(train_y.shape)\n",
        "print(val_X.shape)\n",
        "print(test_X.shape)"
      ],
      "execution_count": null,
      "outputs": [
        {
          "output_type": "stream",
          "text": [
            "(404, 224, 224, 3)\n",
            "(404, 4)\n",
            "(204, 224, 224, 3)\n",
            "(200, 224, 224, 3)\n"
          ],
          "name": "stdout"
        }
      ]
    },
    {
      "cell_type": "code",
      "metadata": {
        "colab": {
          "base_uri": "https://localhost:8080/"
        },
        "id": "PSGUDk60XQ-i",
        "outputId": "b9fb9c84-eba2-42f7-ec8d-505f5528ca71"
      },
      "source": [
        "train_y"
      ],
      "execution_count": null,
      "outputs": [
        {
          "output_type": "execute_result",
          "data": {
            "text/plain": [
              "array([[1, 0, 0, 0],\n",
              "       [0, 0, 0, 1],\n",
              "       [0, 0, 0, 1],\n",
              "       ...,\n",
              "       [0, 1, 0, 0],\n",
              "       [0, 0, 1, 0],\n",
              "       [0, 0, 1, 0]])"
            ]
          },
          "metadata": {
            "tags": []
          },
          "execution_count": 19
        }
      ]
    },
    {
      "cell_type": "code",
      "metadata": {
        "id": "7nTUMu2mmWz3"
      },
      "source": [
        "## Inception model\n",
        "from tensorflow.keras.applications import Xception\n",
        "from tensorflow.keras.layers import Dense, Input\n",
        "from tensorflow.keras import Model\n",
        "\n",
        "img_input = Input(shape=(IMG_SIZE, IMG_SIZE, 3))"
      ],
      "execution_count": null,
      "outputs": []
    },
    {
      "cell_type": "code",
      "metadata": {
        "id": "GYUVnLnCmaeq",
        "colab": {
          "base_uri": "https://localhost:8080/"
        },
        "outputId": "ecbca3a2-e253-413d-af2c-7f6475ee0807"
      },
      "source": [
        "from keras.models import Model\n",
        "from tensorflow import keras\n",
        "from keras.layers import Dropout\n",
        "from keras.layers import GlobalAveragePooling2D\n",
        "base_model = Xception(input_shape=(224, 224, 3), weights='imagenet', include_top=False) #False - define model and extract features from the train dataset using the VGG16 pre-trained model\n",
        "#base_model.trainable = False #freeze all layers in the base_model\n",
        "\n",
        "input = keras.Input(shape=(224, 224, 3))\n",
        "x = base_model(input) #make sure base_model is running in inference mode\n",
        "\n",
        "# add additional layers\n",
        "x = GlobalAveragePooling2D()(x) #convert features to vectors\n",
        "x = Dense(512, activation='relu')(x) \n",
        "x = Dropout(0.5)(x) \n",
        "output = Dense(4, activation='softmax')(x) #4 classes\n",
        "\n",
        "\n",
        "for layer in base_model.layers [:-1]:\n",
        "  layer.trainable = False\n",
        "\n",
        "\n",
        "# add layer to the pre-trained base_model\n",
        "model = Model(input, output)\n",
        "model.summary()"
      ],
      "execution_count": null,
      "outputs": [
        {
          "output_type": "stream",
          "text": [
            "Model: \"model\"\n",
            "_________________________________________________________________\n",
            "Layer (type)                 Output Shape              Param #   \n",
            "=================================================================\n",
            "input_5 (InputLayer)         [(None, 224, 224, 3)]     0         \n",
            "_________________________________________________________________\n",
            "xception (Functional)        (None, 7, 7, 2048)        20861480  \n",
            "_________________________________________________________________\n",
            "global_average_pooling2d (Gl (None, 2048)              0         \n",
            "_________________________________________________________________\n",
            "dense (Dense)                (None, 512)               1049088   \n",
            "_________________________________________________________________\n",
            "dropout (Dropout)            (None, 512)               0         \n",
            "_________________________________________________________________\n",
            "dense_1 (Dense)              (None, 4)                 2052      \n",
            "=================================================================\n",
            "Total params: 21,912,620\n",
            "Trainable params: 1,051,140\n",
            "Non-trainable params: 20,861,480\n",
            "_________________________________________________________________\n"
          ],
          "name": "stdout"
        }
      ]
    },
    {
      "cell_type": "code",
      "metadata": {
        "id": "8zlF94nhnA1M"
      },
      "source": [
        "model.compile(loss='categorical_crossentropy',\n",
        "              optimizer='adam',\n",
        "              metrics=['acc'])"
      ],
      "execution_count": null,
      "outputs": []
    },
    {
      "cell_type": "code",
      "metadata": {
        "id": "3M_A0INHnEUs"
      },
      "source": [
        "from tensorflow.keras.callbacks import EarlyStopping, ModelCheckpoint\n",
        "callbacks_list = [\n",
        "    EarlyStopping(monitor=\"val_loss\", patience=3, verbose=1, restore_best_weights=True),\n",
        "    ModelCheckpoint(filepath='top_model.h5', monitor =\"val_loss\", mode=\"min\", save_best_only=True)]"
      ],
      "execution_count": null,
      "outputs": []
    },
    {
      "cell_type": "code",
      "metadata": {
        "id": "YVIP4RvWsQGK",
        "colab": {
          "base_uri": "https://localhost:8080/"
        },
        "outputId": "16ac762d-075a-4048-c13a-6d9958a6a7a7"
      },
      "source": [
        "epochs = 10 #set epochs to 10 while experimenting, hoever setting this higher doesn't seem to help\n",
        "history = model.fit(train_X, train_y,\n",
        "          steps_per_epoch = 100,\n",
        "          batch_size=20,\n",
        "          epochs=20, \n",
        "          validation_data=(val_X, val_y),\n",
        "          callbacks = callbacks_list)"
      ],
      "execution_count": null,
      "outputs": [
        {
          "output_type": "stream",
          "text": [
            "Epoch 1/20\n",
            "100/100 [==============================] - 3s 35ms/step - loss: 0.0654 - acc: 0.9809 - val_loss: 0.0330 - val_acc: 0.9804\n",
            "Epoch 2/20\n",
            "100/100 [==============================] - 3s 34ms/step - loss: 0.0358 - acc: 0.9896 - val_loss: 0.0435 - val_acc: 0.9853\n",
            "Epoch 3/20\n",
            "100/100 [==============================] - 3s 34ms/step - loss: 0.0069 - acc: 0.9979 - val_loss: 0.0449 - val_acc: 0.9902\n",
            "Epoch 4/20\n",
            "100/100 [==============================] - 3s 34ms/step - loss: 0.0067 - acc: 0.9969 - val_loss: 0.0088 - val_acc: 1.0000\n",
            "Epoch 5/20\n",
            " 19/100 [====>.........................] - ETA: 2s - loss: 0.0702 - acc: 0.9789WARNING:tensorflow:Your input ran out of data; interrupting training. Make sure that your dataset or generator can generate at least `steps_per_epoch * epochs` batches (in this case, 2000 batches). You may need to use the repeat() function when building your dataset.\n",
            "100/100 [==============================] - 1s 9ms/step - loss: 0.0695 - acc: 0.9792 - val_loss: 0.1068 - val_acc: 0.9853\n"
          ],
          "name": "stdout"
        }
      ]
    },
    {
      "cell_type": "code",
      "metadata": {
        "id": "obrwH58LrVr6",
        "colab": {
          "base_uri": "https://localhost:8080/",
          "height": 545
        },
        "outputId": "bee15a22-5ca3-47c0-bcaf-fe387f5a75d3"
      },
      "source": [
        "import matplotlib.pyplot as plt\n",
        "\n",
        "acc = history.history['acc']\n",
        "val_acc = history.history['val_acc']\n",
        "loss = history.history['loss']\n",
        "val_loss = history.history['val_loss']\n",
        "\n",
        "epochs = range(1, len(acc) + 1)\n",
        "\n",
        "plt.plot(epochs, acc, 'bo', label='Training acc')\n",
        "plt.plot(epochs, val_acc, 'b', label='Validation acc')\n",
        "plt.title('Training and validation accuracy')\n",
        "plt.legend()\n",
        "\n",
        "plt.figure()\n",
        "\n",
        "plt.plot(epochs, loss, 'bo', label='Training loss')\n",
        "plt.plot(epochs, val_loss, 'b', label='Validation loss')\n",
        "plt.title('Training and validation loss')\n",
        "plt.legend()\n",
        "\n",
        "plt.show()"
      ],
      "execution_count": null,
      "outputs": [
        {
          "output_type": "display_data",
          "data": {
            "image/png": "[encoded data removed]",
            "text/plain": [
              "<Figure size 432x288 with 1 Axes>"
            ]
          },
          "metadata": {
            "tags": [],
            "needs_background": "light"
          }
        },
        {
          "output_type": "display_data",
          "data": {
            "image/png": "[encoded data removed]",
            "text/plain": [
              "<Figure size 432x288 with 1 Axes>"
            ]
          },
          "metadata": {
            "tags": [],
            "needs_background": "light"
          }
        }
      ]
    },
    {
      "cell_type": "code",
      "metadata": {
        "id": "juEQi2ubrZD3",
        "colab": {
          "base_uri": "https://localhost:8080/"
        },
        "outputId": "cf4d1764-e3b5-4b43-a5ce-ebde70e310e4"
      },
      "source": [
        "from sklearn.metrics import accuracy_score\n",
        "\n",
        "## Test Accuracy\n",
        "predictions = model.predict(test_X)\n",
        "ypred = predictions > 0.5\n",
        "test_acc = accuracy_score(test_y, ypred)\n",
        "\n",
        "from sklearn.metrics import precision_recall_fscore_support, roc_auc_score\n",
        "\n",
        "precision, recall, f1score, _ = precision_recall_fscore_support(test_y, ypred, average='macro')\n",
        "\n",
        "auc = roc_auc_score(test_y, ypred)\n",
        "\n",
        "print(\"Train Accuracy:\\t\", acc[-1])\n",
        "print(\"Val Accuracy:\\t\", val_acc[-1])\n",
        "print(\"Test Accuracy:\\t\", test_acc)\n",
        "print(\"Precision:\\t\", precision)\n",
        "print(\"Recall:\\t\\t\", recall)\n",
        "print(\"F1 Score:\\t\", f1score)\n",
        "print(\"AUC:\\t\\t\", auc)"
      ],
      "execution_count": null,
      "outputs": [
        {
          "output_type": "stream",
          "text": [
            "Train Accuracy:\t 0.9791666865348816\n",
            "Val Accuracy:\t 0.9852941036224365\n",
            "Test Accuracy:\t 0.91\n",
            "Precision:\t 0.9207115705061002\n",
            "Recall:\t\t 0.9099999999999999\n",
            "F1 Score:\t 0.9082554569665384\n",
            "AUC:\t\t 0.94\n"
          ],
          "name": "stdout"
        }
      ]
    }
  ]
}